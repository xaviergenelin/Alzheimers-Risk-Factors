{
 "cells": [
  {
   "cell_type": "markdown",
   "id": "977cc92a-fd08-4722-a14f-42bbe3680260",
   "metadata": {},
   "source": [
    "# ST590 - BIG DATA IN PYTHON\n",
    "# FINAL PROJECT\n",
    "\n",
    "### AUTHORS: Xavier Genelin & Kate Sanborn\n",
    "\n",
    "************************\n",
    "### PURPOSE\n",
    "The purpose of this report is to document the exploration of MRI scan data on Demented individuals and Non-demented individuals.\n",
    "\n",
    "### MOTIVATION\n",
    "Alzheimer's disease is a progressive neurological disorder that causes the brain to shrink (atrophy) and brain cells to die. Alzheimer's disease is the most common cause of dementia — a continuous decline in thinking, behavioral and social skills that affects a person's ability to function independently.\n",
    "\n",
    "Approximately 5.8 million people in the United States age 65 and older live with Alzheimer's disease. Of those, 80\\% are 75 years old and older. Out of the approximately 50 million people worldwide with dementia, between 60\\% and 70\\% are estimated to have Alzheimer's disease.\n",
    "\n",
    "The early signs of the disease include forgetting recent events or conversations. As the disease progresses, a person with Alzheimer's disease will develop severe memory impairment and lose the ability to carry out everyday tasks.\n",
    "\n",
    "Medications may temporarily improve or slow progression of symptoms. These treatments can sometimes help people with Alzheimer's disease maximize function and maintain independence for a time. However, there is no treatment that cures Alzheimer's disease or alters the disease process in the brain. In advanced stages of the disease, complications from severe loss of brain function — such as dehydration, malnutrition or infection — result in death. [[Mayo Clinic]](https://www.mayoclinic.org/diseases-conditions/alzheimers-disease/symptoms-causes/syc-20350447?msclkid=70a3e05ab46111ec921c1377f71b85d7)\n",
    "\n",
    "Given the relatively unpredictable nature of Alzheimer's (since it is typically not detected until symptoms are displayed), it is of interest to the medical community to identify if a particular set of risk factors can be identified as relatively accurate predictors of Alzheimer-onset dementia.\n",
    "\n",
    "Thus, we seek to explore the classification problem through identifying a set of \"predictors\" or risk factors associated with those identified with Alzheimer-onset dementia. Our target is Group (Demented, Nondemented, or Converted...which we reclassify as Demented).\n",
    "\n",
    "### DATA\n",
    "The data utilized was extracted from Kaggle's repository of datasets. [[kaggle]](https://www.kaggle.com/datasets/jboysen/mri-and-alzheimers?datasetId=1980&language=R) The data comes from the Open Access Series of Imaging Studies (OASIS), a project aimed at making MRI data sets of brain freely available to the scientific community. [[OASIS]](https://doi.org/10.1162/jocn.2007.19.9.1498)\n",
    "\n",
    "For the purposes of this project, we focus on one of the MRI data sets made available through OASIS : Longitudinal MRI Data in Nondemented and Demented Older Adults.\n",
    "\n",
    "This set consists of a collection of 150 subjects aged 60 to 96. Each subject was scanned on two or more visits, separated by at least one year for a total of 373 imaging sessions. For each subject, 3 or 4 individual T1-weighted MRI scans obtained in single scan sessions are included. The subjects are all right-handed and include both men and women. 72 of the subjects were characterized as non-demented throughout the study. 64 of the included subjects were characterized as demented at the time of their initial visits and remained so for subsequent scans, including 51 individuals with mild to moderate Alzheimer’s disease. Another 14 subjects were characterized as non-demented at the time of their initial visit and were subsequently characterized as demented at a later visit.\n",
    "\n",
    "Even though this data is titled as \"longitudinal,\" we consider the classification of Dementia through MRI ID as the test \"unit\". In the classification problem, we focus on the 'Group' variable which has levels = Demented (we include Converted with demented) & Nondemented. So, our target is binary.\n",
    "\n",
    "#### DATA DICTIONARY\n",
    "Subject.ID, MRI.ID, MR.Delay, Visit,  M.F - Gender, Hand - Handedness, Age, EDUC - Years of education, SES - Socioeconomic status as assessed by the Hollingshead Index of Social Position and classified into categories from 1 (highest status) to 5 (lowest status), \n",
    "\n",
    "MMSE - Mini-Mental State Examination score (range is from 0 = worst to 30 = best), CDR - Clinical Dementia Rating (0 = no dementia, 0.5 = very mild AD, 1 = mild AD, 2 = moderate AD, 3= severe)\n",
    "\n",
    "eTIV - Estimated total intracranial volume, mm3 \n",
    "nWBV - Normalized whole-brain volume, expressed as a percent of all voxels in the atlas-masked image that are labeled as gray or white matter by the automated tissue segmentation process\n",
    "ASF - Atlas scaling factor (unitless). Computed scaling factor that transforms native-space brain and skull to the atlas target (i.e., the determinant of the transform matrix)\n",
    "\n",
    "##### RELEVANT VARIABLE DEFINITIONS \n",
    "The Mini–Mental State Examination (MMSE) or Folstein test is a 30-point questionnaire that is used extensively in clinical and research settings to measure cognitive impairment. It is commonly used in medicine and allied health to screen for dementia. It is also used to estimate the severity and progression of cognitive impairment and to follow the course of cognitive changes in an individual over time. [[WIKI]](https://en.wikipedia.org/wiki/Mini_Mental_State_Examination) Any score greater than or equal to 24 points (out of 30) indicates a normal cognition. Below this, scores can indicate severe (≤9 points), moderate (10–18 points) or mild (19–23 points) cognitive impairment. The presence of purely physical problems can also interfere with interpretation if not properly noted; for example, a patient may be physically unable to hear or read instructions properly, or may have a motor deficit that affects writing and drawing skills.\n",
    "\n",
    "The CDR in one aspect is a 5-point scale used to characterize six domains of cognitive and functional performance applicable to Alzheimer disease and related dementias: Memory, Orientation, Judgment & Problem Solving, Community Affairs, Home & Hobbies, and Personal Care. [[ADRC]](https://knightadrc.wustl.edu/professionals-clinicians/cdr-dementia-staging-instrument/)\n",
    "Due to the comprehensive nature of CDR, we will consider this as our \"target\" variable.\n",
    "\n",
    "The ICV measure, sometimes referred to as total intracranial volume (TIV), refers to the estimated volume of the cranial cavity as outlined by the supratentorial dura matter or cerebral contour when dura is not clearly detectable. ICV is often used in studies involved with analysis of the cerebral structure under different imaging modalities, such as Magnetic Resonance (MR), MR and Diffusion Tensor Imaging (DTI), MR and Single-photon Emission Computed Tomography (SPECT), Ultrasound and Computed Tomography (CT). ICV consistency during aging makes it a reliable tool for correction of head size variation across subjects in studies that rely on morphological features of the brain. [[PUBMED]](https://doi.org/10.1186/1471-2105-16-S7-S8)\n",
    "\n",
    "### MODULE IMPORT"
   ]
  },
  {
   "cell_type": "code",
   "execution_count": 1,
   "id": "328f8f0e-ab29-4cca-9e95-2d67207cd485",
   "metadata": {},
   "outputs": [
    {
     "name": "stderr",
     "output_type": "stream",
     "text": [
      "WARNING:root:'PYARROW_IGNORE_TIMEZONE' environment variable was not set. It is required to set this environment variable to '1' in both driver and executor sides if you use pyarrow>=2.0.0. pandas-on-Spark will set it for you but it does not work if there is a Spark context already launched.\n"
     ]
    }
   ],
   "source": [
    "import numpy as np\n",
    "from scipy.io import loadmat\n",
    "from functools import reduce\n",
    "from scipy import signal\n",
    "from scipy.stats import entropy\n",
    "from scipy.fft import fft, ifft\n",
    "import pandas as pd\n",
    "import matplotlib.pyplot as plt\n",
    "import scipy\n",
    "from xgboost import XGBRegressor\n",
    "import matplotlib.pyplot as plt\n",
    "from matplotlib.patches import Rectangle\n",
    "import seaborn as sns\n",
    "\n",
    "from pyspark.ml.feature import SQLTransformer #sqltransformer allows us ot do all these tranf. easily\n",
    "from pyspark.ml.stat import Correlation\n",
    "from pyspark.ml.feature import OneHotEncoder, StringIndexer, VectorAssembler\n",
    "from pyspark.ml.tuning import CrossValidator, ParamGridBuilder\n",
    "from pyspark.ml.evaluation import RegressionEvaluator, BinaryClassificationEvaluator, ClusteringEvaluator\n",
    "from pyspark.ml import Pipeline\n",
    "from pyspark.sql.functions import isnan, when, count, col, trim\n",
    "from pyspark.sql.types import BinaryType , IntegerType , StringType\n",
    "import pyspark.pandas as ps\n",
    "\n",
    "from pyspark_dist_explore import hist #need for UDF visualizations\n",
    "from pyspark.ml.feature import PCA\n",
    "from pyspark.ml.classification import RandomForestClassifier, DecisionTreeClassifier, LogisticRegression, GBTClassifier\n",
    "from pyspark.ml.clustering import KMeans\n",
    "from xgboost import XGBRegressor, plot_tree\n",
    "from pandas.plotting import scatter_matrix\n",
    "from sklearn.preprocessing import StandardScaler\n",
    "from sklearn.model_selection import GridSearchCV\n",
    "\n",
    "#set up OS and sys vars\n",
    "import os\n",
    "import sys\n",
    "os.environ['PYSPARK_PYTHON'] = sys.executable\n",
    "os.environ['PYSPARK_DRIVER_PYTHON'] = sys.executable\n",
    "os.environ[\"PYARROW_IGNORE_TIMEZONE\"] = \"1\" #get rid of error"
   ]
  },
  {
   "cell_type": "code",
   "execution_count": 2,
   "id": "5dde18b9-4638-4b54-b89d-f1d4fbbc4398",
   "metadata": {},
   "outputs": [],
   "source": [
    "ps.options.plotting.backend = 'matplotlib'"
   ]
  },
  {
   "cell_type": "markdown",
   "id": "34a1bcf0-a10a-48b3-aebb-29906cc67f0b",
   "metadata": {},
   "source": [
    "Create a Spark instance"
   ]
  },
  {
   "cell_type": "code",
   "execution_count": 3,
   "id": "a12170ff-beb7-40e3-ba21-44d98341bded",
   "metadata": {},
   "outputs": [],
   "source": [
    "from pyspark.sql import SparkSession\n",
    "spark = SparkSession.builder.getOrCreate()"
   ]
  },
  {
   "cell_type": "markdown",
   "id": "376e369f-9b60-4d11-8fc7-046f49271164",
   "metadata": {},
   "source": [
    "### DATA CLEANING\n",
    "First we read in the longitudinal data. We will look into the existence of null values in the data and assess if we need to impute or just drop a few observations."
   ]
  },
  {
   "cell_type": "code",
   "execution_count": 4,
   "id": "e2537cf0-b913-451d-804a-f80be91979ab",
   "metadata": {},
   "outputs": [
    {
     "name": "stdout",
     "output_type": "stream",
     "text": [
      "<class 'pandas.core.frame.DataFrame'>\n",
      "RangeIndex: 373 entries, 0 to 372\n",
      "Data columns (total 15 columns):\n",
      " #   Column      Non-Null Count  Dtype  \n",
      "---  ------      --------------  -----  \n",
      " 0   Subject ID  373 non-null    object \n",
      " 1   MRI ID      373 non-null    object \n",
      " 2   Group       373 non-null    object \n",
      " 3   Visit       373 non-null    int64  \n",
      " 4   MR Delay    373 non-null    int64  \n",
      " 5   M/F         373 non-null    object \n",
      " 6   Hand        373 non-null    object \n",
      " 7   Age         373 non-null    int64  \n",
      " 8   EDUC        373 non-null    int64  \n",
      " 9   SES         354 non-null    float64\n",
      " 10  MMSE        371 non-null    float64\n",
      " 11  CDR         373 non-null    float64\n",
      " 12  eTIV        373 non-null    int64  \n",
      " 13  nWBV        373 non-null    float64\n",
      " 14  ASF         373 non-null    float64\n",
      "dtypes: float64(5), int64(5), object(5)\n",
      "memory usage: 43.8+ KB\n",
      "None\n"
     ]
    }
   ],
   "source": [
    "alz_pd = pd.read_csv(\"oasis_ALZ.csv\")\n",
    "\n",
    "print(alz_pd.info())"
   ]
  },
  {
   "cell_type": "code",
   "execution_count": 5,
   "id": "db91249c-7574-48d2-977d-b25b6bb4cafc",
   "metadata": {},
   "outputs": [
    {
     "data": {
      "text/html": [
       "<div>\n",
       "<style scoped>\n",
       "    .dataframe tbody tr th:only-of-type {\n",
       "        vertical-align: middle;\n",
       "    }\n",
       "\n",
       "    .dataframe tbody tr th {\n",
       "        vertical-align: top;\n",
       "    }\n",
       "\n",
       "    .dataframe thead th {\n",
       "        text-align: right;\n",
       "    }\n",
       "</style>\n",
       "<table border=\"1\" class=\"dataframe\">\n",
       "  <thead>\n",
       "    <tr style=\"text-align: right;\">\n",
       "      <th></th>\n",
       "      <th>Subject ID</th>\n",
       "      <th>MRI ID</th>\n",
       "      <th>Group</th>\n",
       "      <th>Visit</th>\n",
       "      <th>MR Delay</th>\n",
       "      <th>M/F</th>\n",
       "      <th>Hand</th>\n",
       "      <th>Age</th>\n",
       "      <th>EDUC</th>\n",
       "      <th>SES</th>\n",
       "      <th>MMSE</th>\n",
       "      <th>CDR</th>\n",
       "      <th>eTIV</th>\n",
       "      <th>nWBV</th>\n",
       "      <th>ASF</th>\n",
       "    </tr>\n",
       "  </thead>\n",
       "  <tbody>\n",
       "    <tr>\n",
       "      <th>0</th>\n",
       "      <td>OAS2_0001</td>\n",
       "      <td>OAS2_0001_MR1</td>\n",
       "      <td>Nondemented</td>\n",
       "      <td>1</td>\n",
       "      <td>0</td>\n",
       "      <td>M</td>\n",
       "      <td>R</td>\n",
       "      <td>87</td>\n",
       "      <td>14</td>\n",
       "      <td>2.0</td>\n",
       "      <td>27.0</td>\n",
       "      <td>0.0</td>\n",
       "      <td>1987</td>\n",
       "      <td>0.696</td>\n",
       "      <td>0.883</td>\n",
       "    </tr>\n",
       "    <tr>\n",
       "      <th>1</th>\n",
       "      <td>OAS2_0001</td>\n",
       "      <td>OAS2_0001_MR2</td>\n",
       "      <td>Nondemented</td>\n",
       "      <td>2</td>\n",
       "      <td>457</td>\n",
       "      <td>M</td>\n",
       "      <td>R</td>\n",
       "      <td>88</td>\n",
       "      <td>14</td>\n",
       "      <td>2.0</td>\n",
       "      <td>30.0</td>\n",
       "      <td>0.0</td>\n",
       "      <td>2004</td>\n",
       "      <td>0.681</td>\n",
       "      <td>0.876</td>\n",
       "    </tr>\n",
       "    <tr>\n",
       "      <th>2</th>\n",
       "      <td>OAS2_0002</td>\n",
       "      <td>OAS2_0002_MR1</td>\n",
       "      <td>Demented</td>\n",
       "      <td>1</td>\n",
       "      <td>0</td>\n",
       "      <td>M</td>\n",
       "      <td>R</td>\n",
       "      <td>75</td>\n",
       "      <td>12</td>\n",
       "      <td>NaN</td>\n",
       "      <td>23.0</td>\n",
       "      <td>0.5</td>\n",
       "      <td>1678</td>\n",
       "      <td>0.736</td>\n",
       "      <td>1.046</td>\n",
       "    </tr>\n",
       "    <tr>\n",
       "      <th>3</th>\n",
       "      <td>OAS2_0002</td>\n",
       "      <td>OAS2_0002_MR2</td>\n",
       "      <td>Demented</td>\n",
       "      <td>2</td>\n",
       "      <td>560</td>\n",
       "      <td>M</td>\n",
       "      <td>R</td>\n",
       "      <td>76</td>\n",
       "      <td>12</td>\n",
       "      <td>NaN</td>\n",
       "      <td>28.0</td>\n",
       "      <td>0.5</td>\n",
       "      <td>1738</td>\n",
       "      <td>0.713</td>\n",
       "      <td>1.010</td>\n",
       "    </tr>\n",
       "    <tr>\n",
       "      <th>4</th>\n",
       "      <td>OAS2_0002</td>\n",
       "      <td>OAS2_0002_MR3</td>\n",
       "      <td>Demented</td>\n",
       "      <td>3</td>\n",
       "      <td>1895</td>\n",
       "      <td>M</td>\n",
       "      <td>R</td>\n",
       "      <td>80</td>\n",
       "      <td>12</td>\n",
       "      <td>NaN</td>\n",
       "      <td>22.0</td>\n",
       "      <td>0.5</td>\n",
       "      <td>1698</td>\n",
       "      <td>0.701</td>\n",
       "      <td>1.034</td>\n",
       "    </tr>\n",
       "  </tbody>\n",
       "</table>\n",
       "</div>"
      ],
      "text/plain": [
       "  Subject ID         MRI ID        Group  Visit  MR Delay M/F Hand  Age  EDUC  \\\n",
       "0  OAS2_0001  OAS2_0001_MR1  Nondemented      1         0   M    R   87    14   \n",
       "1  OAS2_0001  OAS2_0001_MR2  Nondemented      2       457   M    R   88    14   \n",
       "2  OAS2_0002  OAS2_0002_MR1     Demented      1         0   M    R   75    12   \n",
       "3  OAS2_0002  OAS2_0002_MR2     Demented      2       560   M    R   76    12   \n",
       "4  OAS2_0002  OAS2_0002_MR3     Demented      3      1895   M    R   80    12   \n",
       "\n",
       "   SES  MMSE  CDR  eTIV   nWBV    ASF  \n",
       "0  2.0  27.0  0.0  1987  0.696  0.883  \n",
       "1  2.0  30.0  0.0  2004  0.681  0.876  \n",
       "2  NaN  23.0  0.5  1678  0.736  1.046  \n",
       "3  NaN  28.0  0.5  1738  0.713  1.010  \n",
       "4  NaN  22.0  0.5  1698  0.701  1.034  "
      ]
     },
     "execution_count": 5,
     "metadata": {},
     "output_type": "execute_result"
    }
   ],
   "source": [
    "alz_pd.head(5) #373 rows and 15 columns"
   ]
  },
  {
   "cell_type": "markdown",
   "id": "14ac85e7-babc-4a8c-9628-255ab2aab973",
   "metadata": {},
   "source": [
    "Now we make a Spark SQL dataframe"
   ]
  },
  {
   "cell_type": "code",
   "execution_count": 6,
   "id": "ef57fbd9-5ffb-440c-a317-c5f28bc9e5b9",
   "metadata": {},
   "outputs": [
    {
     "name": "stdout",
     "output_type": "stream",
     "text": [
      "+----------+-------------+-----------+-----+--------+---+----+---+----+---+----+---+----+-----+-----+\n",
      "|Subject ID|       MRI ID|      Group|Visit|MR Delay|M/F|Hand|Age|EDUC|SES|MMSE|CDR|eTIV| nWBV|  ASF|\n",
      "+----------+-------------+-----------+-----+--------+---+----+---+----+---+----+---+----+-----+-----+\n",
      "| OAS2_0001|OAS2_0001_MR1|Nondemented|    1|       0|  M|   R| 87|  14|2.0|27.0|0.0|1987|0.696|0.883|\n",
      "| OAS2_0001|OAS2_0001_MR2|Nondemented|    2|     457|  M|   R| 88|  14|2.0|30.0|0.0|2004|0.681|0.876|\n",
      "| OAS2_0002|OAS2_0002_MR1|   Demented|    1|       0|  M|   R| 75|  12|NaN|23.0|0.5|1678|0.736|1.046|\n",
      "| OAS2_0002|OAS2_0002_MR2|   Demented|    2|     560|  M|   R| 76|  12|NaN|28.0|0.5|1738|0.713| 1.01|\n",
      "| OAS2_0002|OAS2_0002_MR3|   Demented|    3|    1895|  M|   R| 80|  12|NaN|22.0|0.5|1698|0.701|1.034|\n",
      "+----------+-------------+-----------+-----+--------+---+----+---+----+---+----+---+----+-----+-----+\n",
      "only showing top 5 rows\n",
      "\n"
     ]
    }
   ],
   "source": [
    "alz = spark.createDataFrame(alz_pd)\n",
    "alz.show(5)\n",
    "#now we have a spark df"
   ]
  },
  {
   "cell_type": "markdown",
   "id": "5bf3b78c-cf5c-4ad0-90c7-31757e522db4",
   "metadata": {},
   "source": [
    "One thing we will have to do is fix the \"type\" for some of these. CDR - our target variable - is read in a float, but is really ordinal. EDUC is also categorical, but is read in as an integer. \n",
    "\n",
    "Before we handle that, let's check out missingness."
   ]
  },
  {
   "cell_type": "code",
   "execution_count": 7,
   "id": "b3d3c996-32a3-4310-9e03-41bed260bb64",
   "metadata": {},
   "outputs": [
    {
     "name": "stdout",
     "output_type": "stream",
     "text": [
      "+----------+------+-----+-----+--------+---+----+---+----+---+----+---+----+----+---+\n",
      "|Subject ID|MRI ID|Group|Visit|MR Delay|M/F|Hand|Age|EDUC|SES|MMSE|CDR|eTIV|nWBV|ASF|\n",
      "+----------+------+-----+-----+--------+---+----+---+----+---+----+---+----+----+---+\n",
      "|         0|     0|    0|    0|       0|  0|   0|  0|   0| 19|   2|  0|   0|   0|  0|\n",
      "+----------+------+-----+-----+--------+---+----+---+----+---+----+---+----+----+---+\n",
      "\n"
     ]
    }
   ],
   "source": [
    "### Get count of both null and missing values in pyspark\n",
    "alz.select([count(when(isnan(c) | col(c).isNull(), c)).alias(c) for c in alz.columns]).show()"
   ]
  },
  {
   "cell_type": "markdown",
   "id": "361e29c8-b675-4cb0-9ad6-9f927fd3848b",
   "metadata": {},
   "source": [
    "Ok - it seems like we don't have too large of an issue with missingess. We just have 19 observations null for Socio-Economic Status and 2 for MMSE. We could probably just remove those."
   ]
  },
  {
   "cell_type": "code",
   "execution_count": 8,
   "id": "03ca15af-2149-461e-8fe7-831d8c410660",
   "metadata": {},
   "outputs": [],
   "source": [
    "def to_null(c):\n",
    "    return when(~(col(c).isNull() | isnan(col(c)) | (trim(col(c)) == \"\")), col(c))\n",
    "\n",
    "alz = alz.select([to_null(c).alias(c) for c in alz.columns]).na.drop()"
   ]
  },
  {
   "cell_type": "code",
   "execution_count": 9,
   "id": "54233abc-0834-4b76-86e2-788eae083932",
   "metadata": {},
   "outputs": [
    {
     "data": {
      "text/plain": [
       "354"
      ]
     },
     "execution_count": 9,
     "metadata": {},
     "output_type": "execute_result"
    }
   ],
   "source": [
    "alz.count()"
   ]
  },
  {
   "cell_type": "code",
   "execution_count": 10,
   "id": "faada4b4-eac1-4b1a-9721-1cd2ab5c4b77",
   "metadata": {},
   "outputs": [
    {
     "name": "stdout",
     "output_type": "stream",
     "text": [
      "+----------+-------------+-----------+-----+--------+---+----+---+----+---+----+---+----+-----+-----+\n",
      "|Subject ID|       MRI ID|      Group|Visit|MR Delay|M/F|Hand|Age|EDUC|SES|MMSE|CDR|eTIV| nWBV|  ASF|\n",
      "+----------+-------------+-----------+-----+--------+---+----+---+----+---+----+---+----+-----+-----+\n",
      "| OAS2_0001|OAS2_0001_MR1|Nondemented|    1|       0|  M|   R| 87|  14|2.0|27.0|0.0|1987|0.696|0.883|\n",
      "| OAS2_0001|OAS2_0001_MR2|Nondemented|    2|     457|  M|   R| 88|  14|2.0|30.0|0.0|2004|0.681|0.876|\n",
      "| OAS2_0004|OAS2_0004_MR1|Nondemented|    1|       0|  F|   R| 88|  18|3.0|28.0|0.0|1215| 0.71|1.444|\n",
      "| OAS2_0004|OAS2_0004_MR2|Nondemented|    2|     538|  F|   R| 90|  18|3.0|27.0|0.0|1200|0.718|1.462|\n",
      "| OAS2_0005|OAS2_0005_MR1|Nondemented|    1|       0|  M|   R| 80|  12|4.0|28.0|0.0|1689|0.712|1.039|\n",
      "| OAS2_0005|OAS2_0005_MR2|Nondemented|    2|    1010|  M|   R| 83|  12|4.0|29.0|0.5|1701|0.711|1.032|\n",
      "| OAS2_0005|OAS2_0005_MR3|Nondemented|    3|    1603|  M|   R| 85|  12|4.0|30.0|0.0|1699|0.705|1.033|\n",
      "| OAS2_0008|OAS2_0008_MR1|Nondemented|    1|       0|  F|   R| 93|  14|2.0|30.0|0.0|1272|0.698| 1.38|\n",
      "| OAS2_0008|OAS2_0008_MR2|Nondemented|    2|     742|  F|   R| 95|  14|2.0|29.0|0.0|1257|0.703|1.396|\n",
      "| OAS2_0009|OAS2_0009_MR1|   Demented|    1|       0|  M|   R| 68|  12|2.0|27.0|0.5|1457|0.806|1.205|\n",
      "| OAS2_0009|OAS2_0009_MR2|   Demented|    2|     576|  M|   R| 69|  12|2.0|24.0|0.5|1480|0.791|1.186|\n",
      "| OAS2_0010|OAS2_0010_MR1|   Demented|    1|       0|  F|   R| 66|  12|3.0|30.0|0.5|1447|0.769|1.213|\n",
      "| OAS2_0010|OAS2_0010_MR2|   Demented|    2|     854|  F|   R| 68|  12|3.0|29.0|0.5|1482|0.752|1.184|\n",
      "| OAS2_0012|OAS2_0012_MR1|Nondemented|    1|       0|  F|   R| 78|  16|2.0|29.0|0.0|1333|0.748|1.316|\n",
      "| OAS2_0012|OAS2_0012_MR2|Nondemented|    2|     730|  F|   R| 80|  16|2.0|29.0|0.0|1323|0.738|1.326|\n",
      "| OAS2_0012|OAS2_0012_MR3|Nondemented|    3|    1598|  F|   R| 83|  16|2.0|29.0|0.0|1323|0.718|1.327|\n",
      "| OAS2_0013|OAS2_0013_MR1|Nondemented|    1|       0|  F|   R| 81|  12|4.0|30.0|0.0|1230|0.715|1.427|\n",
      "| OAS2_0013|OAS2_0013_MR2|Nondemented|    2|     643|  F|   R| 82|  12|4.0|30.0|0.0|1212| 0.72|1.448|\n",
      "| OAS2_0013|OAS2_0013_MR3|Nondemented|    3|    1456|  F|   R| 85|  12|4.0|29.0|0.0|1225| 0.71|1.433|\n",
      "| OAS2_0014|OAS2_0014_MR1|   Demented|    1|       0|  M|   R| 76|  16|3.0|21.0|0.5|1602|0.697|1.096|\n",
      "+----------+-------------+-----------+-----+--------+---+----+---+----+---+----+---+----+-----+-----+\n",
      "only showing top 20 rows\n",
      "\n"
     ]
    }
   ],
   "source": [
    "alz.show()"
   ]
  },
  {
   "cell_type": "markdown",
   "id": "81e0bbcb-e6c8-43f5-a06f-577df334d8b6",
   "metadata": {},
   "source": [
    "GREAT! Looks like removing NA from SES also handled the 2 missing in MMSE. Now, we have a complete data set.\n",
    "\n",
    "Now we can also probably remove a few columns that won't align with our motivation to predict dementia .\n",
    "\n",
    "We remove CDR (Clinical Dementia Rating) since it is the same as 'Group' but just gives an ordinal value to the severity of dementia for a person classified as having Dementia (CDR = 0 if nondemented).\n",
    "\n",
    "We also drop Hand because there are only right handed people in the data from observation."
   ]
  },
  {
   "cell_type": "code",
   "execution_count": 11,
   "id": "f5baa6eb-8aae-47de-a77f-4a47f9cfc7ff",
   "metadata": {},
   "outputs": [],
   "source": [
    "alz = alz.drop(*('Subject ID','MRI ID','Visit','MR Delay','CDR','Hand'))"
   ]
  },
  {
   "cell_type": "markdown",
   "id": "ca03bba2-c827-4a60-9091-1ed5d02a736c",
   "metadata": {},
   "source": [
    "We now change Group = 'Converted' to 'Demented' as this indicates a person was once Nondemented and is now Demented. \n",
    "We then change the data types.\n"
   ]
  },
  {
   "cell_type": "code",
   "execution_count": 12,
   "id": "239cce85-a456-462e-ac33-6aac43331b24",
   "metadata": {},
   "outputs": [],
   "source": [
    "alz = alz.withColumn(\"Group\", \\\n",
    "              when(alz[\"Group\"] == 'Converted', 'Demented').otherwise(alz[\"Group\"]))\n",
    "\n",
    "#change group to binary\n",
    "alz = alz.withColumn(\"Group\", \\\n",
    "              when(alz[\"Group\"] == 'Demented', 1).otherwise(0))\n",
    "#change M/F to binary (let Female = 0 and male =1)\n",
    "alz = alz.withColumn(\"M/F\", \\\n",
    "              when(alz[\"M/F\"] == 'M', 1).otherwise(0))"
   ]
  },
  {
   "cell_type": "code",
   "execution_count": 13,
   "id": "02c801c2-4a33-4641-ae81-d367f2632dab",
   "metadata": {},
   "outputs": [
    {
     "name": "stdout",
     "output_type": "stream",
     "text": [
      "root\n",
      " |-- Group: integer (nullable = false)\n",
      " |-- M/F: integer (nullable = false)\n",
      " |-- Age: integer (nullable = true)\n",
      " |-- EDUC: integer (nullable = true)\n",
      " |-- SES: integer (nullable = true)\n",
      " |-- MMSE: double (nullable = true)\n",
      " |-- eTIV: integer (nullable = true)\n",
      " |-- nWBV: double (nullable = true)\n",
      " |-- ASF: double (nullable = true)\n",
      "\n"
     ]
    }
   ],
   "source": [
    "# Casting columns to proper schema\n",
    "alz = alz.withColumn(\"Age\",alz[\"Age\"].cast(IntegerType())).withColumn(\"EDUC\",alz[\"EDUC\"].cast(IntegerType())).withColumn(\"SES\",alz[\"SES\"].cast(IntegerType())).withColumn(\"eTIV\",alz[\"eTIV\"].cast(IntegerType()))\n",
    "alz.printSchema()"
   ]
  },
  {
   "cell_type": "markdown",
   "id": "862e015b-57e9-4a7a-9755-afb58d3100b3",
   "metadata": {},
   "source": [
    "One big thing we should mention is the proper schema. SES is categorical. EDUC may seem cateogrical, but it actually counts the number of years of education - so it is actually integer valued."
   ]
  },
  {
   "cell_type": "markdown",
   "id": "61f4d282-b86d-4473-9168-94d02c97c0eb",
   "metadata": {},
   "source": [
    "### TRAIN AND TEST SPLIT\n",
    "Typically we would do EDA on the whole data, but the instructions say to only do this on the training data. Intuition is that we would not typically \"know\" the test data. So we should examine the data we will train our classification models on - the training data.\n",
    "\n",
    "So, we will first split the data into a train and test set (80% train and 20% test).\n",
    "We split the data into train/test to assess the performance of our models. Should you fit a model on the whole data and then assess the accuracy on the whole data, the model is trained and tested in the same data. This over-inflates the accuracy of the model.\n",
    "\n",
    "Thus, training the data on a portion (80%) of the data allows us to fit a model on some data we have available and then assess the performance of it on some data it hasn't seen yet (the test data)."
   ]
  },
  {
   "cell_type": "code",
   "execution_count": 14,
   "id": "505b7bf7-bb14-4ea5-b7f4-dc57c7320be3",
   "metadata": {},
   "outputs": [
    {
     "name": "stdout",
     "output_type": "stream",
     "text": [
      "285 69\n"
     ]
    }
   ],
   "source": [
    "train, test = alz.randomSplit([0.8,0.2], seed = 1001)\n",
    "print(train.count(), test.count())"
   ]
  },
  {
   "cell_type": "markdown",
   "id": "7490d590-eddb-450d-badc-0924909fc2e1",
   "metadata": {},
   "source": [
    "Here we have 285 rows in the training data and 69 in the test data.\n",
    "\n",
    "Now we move to EDA on JUST THE TRAIN SET.\n",
    "\n",
    "### EDA ON TRAINING DATA"
   ]
  },
  {
   "cell_type": "markdown",
   "id": "1963dd56-ba9f-4ade-a35e-825ad1942705",
   "metadata": {},
   "source": [
    "Now let's look at the numeric variables"
   ]
  },
  {
   "cell_type": "code",
   "execution_count": 15,
   "id": "5d8a2029-75d8-4a97-acd6-dd9b367c70e3",
   "metadata": {},
   "outputs": [
    {
     "name": "stdout",
     "output_type": "stream",
     "text": [
      "+-------+-------------------+-------------------+------------------+------------------+------------------+------------------+\n",
      "|summary|              Group|                M/F|               Age|              EDUC|               SES|              eTIV|\n",
      "+-------+-------------------+-------------------+------------------+------------------+------------------+------------------+\n",
      "|  count|                285|                285|               285|               285|               285|               285|\n",
      "|   mean|0.47719298245614034|0.43508771929824563| 76.96842105263158|14.743859649122808|2.4701754385964914|1489.2771929824562|\n",
      "| stddev| 0.5003581618115425| 0.4966405549990658|7.8746150787826945| 2.905980813301169|1.1429460500558526|175.82008151094524|\n",
      "|    min|                  0|                  0|                60|                 6|                 1|              1106|\n",
      "|    max|                  1|                  1|                98|                23|                 5|              2004|\n",
      "+-------+-------------------+-------------------+------------------+------------------+------------------+------------------+\n",
      "\n"
     ]
    }
   ],
   "source": [
    "numeric_features = [t[0] for t in train.dtypes if t[1] == 'int' ]\n",
    "train.select(numeric_features).describe().show()"
   ]
  },
  {
   "cell_type": "code",
   "execution_count": 16,
   "id": "676a6cea-2460-44b3-9945-0e64741c8fd1",
   "metadata": {},
   "outputs": [
    {
     "name": "stdout",
     "output_type": "stream",
     "text": [
      "+-------+------------------+-------------------+-------------------+\n",
      "|summary|              MMSE|               nWBV|                ASF|\n",
      "+-------+------------------+-------------------+-------------------+\n",
      "|  count|               285|                285|                285|\n",
      "|   mean|27.417543859649122| 0.7304701754385965| 1.1942421052631575|\n",
      "| stddev| 3.652759077151188|0.03733569623024703|0.13574385954437487|\n",
      "|    min|               4.0|              0.644|              0.876|\n",
      "|    max|              30.0|              0.837|              1.587|\n",
      "+-------+------------------+-------------------+-------------------+\n",
      "\n"
     ]
    }
   ],
   "source": [
    "dbl_features = [t[0] for t in train.dtypes if t[1] == 'double' ]\n",
    "train.select(dbl_features).describe().show()"
   ]
  },
  {
   "cell_type": "markdown",
   "id": "5847b4f7-ab78-431c-93ef-2f0a876c2523",
   "metadata": {},
   "source": [
    "Checking correlations between the features. \n",
    "We know Group and M/F are technically 'binary' and not numeric data, but we just plot all variables."
   ]
  },
  {
   "cell_type": "code",
   "execution_count": 17,
   "id": "22ebd6e0-7242-4e0c-8186-83cf3364ad57",
   "metadata": {},
   "outputs": [
    {
     "data": {
      "image/png": "[encoded data removed]",
      "text/plain": [
       "<Figure size 576x576 with 49 Axes>"
      ]
     },
     "metadata": {
      "needs_background": "light"
     },
     "output_type": "display_data"
    }
   ],
   "source": [
    "numeric_data = train.select([t[0] for t in train.dtypes if t[1] == 'double' or 'int']).toPandas()\n",
    "num_vars = numeric_data.drop(columns = ['Group','M/F'])\n",
    "axs = scatter_matrix(num_vars, figsize=(8, 8));\n",
    "\n",
    "# Rotate axis labels and remove axis ticks\n",
    "n = len(num_vars.columns)\n",
    "for i in range(n):\n",
    "    v = axs[i, 0]\n",
    "    v.yaxis.label.set_rotation(0)\n",
    "    v.yaxis.label.set_ha('right')\n",
    "    v.set_yticks(())\n",
    "    h = axs[n-1, i]\n",
    "    h.xaxis.label.set_rotation(90)\n",
    "    h.set_xticks(())"
   ]
  },
  {
   "cell_type": "markdown",
   "id": "fb668e5d-ad96-4b6d-bdf6-9a073c6668c8",
   "metadata": {},
   "source": [
    "ASF and eTIV are HIGHLY correlated as we see via the biplot scatter. They are negatively correlated.\n",
    "\n",
    "We also get a good visual of EDUC and SES really being ordinal data types. \n",
    "\n",
    "MMSE is highly skewed as we see in the middle of this graphic.\n",
    "\n",
    "The other predictors are actually fairly normally distributed!\n",
    "\n",
    "Let's look at some of the categorical variables."
   ]
  },
  {
   "cell_type": "code",
   "execution_count": 18,
   "id": "e1526ae0-6fcd-43a2-a6b4-17cd7f46c59a",
   "metadata": {},
   "outputs": [
    {
     "data": {
      "text/html": [
       "<div>\n",
       "<style scoped>\n",
       "    .dataframe tbody tr th:only-of-type {\n",
       "        vertical-align: middle;\n",
       "    }\n",
       "\n",
       "    .dataframe tbody tr th {\n",
       "        vertical-align: top;\n",
       "    }\n",
       "\n",
       "    .dataframe thead th {\n",
       "        text-align: right;\n",
       "    }\n",
       "</style>\n",
       "<table border=\"1\" class=\"dataframe\">\n",
       "  <thead>\n",
       "    <tr style=\"text-align: right;\">\n",
       "      <th></th>\n",
       "      <th>Group</th>\n",
       "      <th>M/F</th>\n",
       "      <th>Age</th>\n",
       "      <th>EDUC</th>\n",
       "      <th>SES</th>\n",
       "      <th>MMSE</th>\n",
       "      <th>eTIV</th>\n",
       "      <th>nWBV</th>\n",
       "      <th>ASF</th>\n",
       "    </tr>\n",
       "  </thead>\n",
       "  <tbody>\n",
       "    <tr>\n",
       "      <th>0</th>\n",
       "      <td>0</td>\n",
       "      <td>0</td>\n",
       "      <td>64</td>\n",
       "      <td>16</td>\n",
       "      <td>3</td>\n",
       "      <td>29.0</td>\n",
       "      <td>1316</td>\n",
       "      <td>0.796</td>\n",
       "      <td>1.333</td>\n",
       "    </tr>\n",
       "    <tr>\n",
       "      <th>1</th>\n",
       "      <td>0</td>\n",
       "      <td>0</td>\n",
       "      <td>78</td>\n",
       "      <td>16</td>\n",
       "      <td>2</td>\n",
       "      <td>29.0</td>\n",
       "      <td>1333</td>\n",
       "      <td>0.748</td>\n",
       "      <td>1.316</td>\n",
       "    </tr>\n",
       "    <tr>\n",
       "      <th>2</th>\n",
       "      <td>0</td>\n",
       "      <td>0</td>\n",
       "      <td>80</td>\n",
       "      <td>16</td>\n",
       "      <td>2</td>\n",
       "      <td>29.0</td>\n",
       "      <td>1323</td>\n",
       "      <td>0.738</td>\n",
       "      <td>1.326</td>\n",
       "    </tr>\n",
       "    <tr>\n",
       "      <th>3</th>\n",
       "      <td>0</td>\n",
       "      <td>0</td>\n",
       "      <td>81</td>\n",
       "      <td>12</td>\n",
       "      <td>4</td>\n",
       "      <td>30.0</td>\n",
       "      <td>1230</td>\n",
       "      <td>0.715</td>\n",
       "      <td>1.427</td>\n",
       "    </tr>\n",
       "    <tr>\n",
       "      <th>4</th>\n",
       "      <td>0</td>\n",
       "      <td>0</td>\n",
       "      <td>83</td>\n",
       "      <td>16</td>\n",
       "      <td>2</td>\n",
       "      <td>29.0</td>\n",
       "      <td>1323</td>\n",
       "      <td>0.718</td>\n",
       "      <td>1.327</td>\n",
       "    </tr>\n",
       "  </tbody>\n",
       "</table>\n",
       "</div>"
      ],
      "text/plain": [
       "   Group  M/F  Age  EDUC  SES  MMSE  eTIV   nWBV    ASF\n",
       "0      0    0   64    16    3  29.0  1316  0.796  1.333\n",
       "1      0    0   78    16    2  29.0  1333  0.748  1.316\n",
       "2      0    0   80    16    2  29.0  1323  0.738  1.326\n",
       "3      0    0   81    12    4  30.0  1230  0.715  1.427\n",
       "4      0    0   83    16    2  29.0  1323  0.718  1.327"
      ]
     },
     "execution_count": 18,
     "metadata": {},
     "output_type": "execute_result"
    }
   ],
   "source": [
    "train_ps = ps.DataFrame(train)\n",
    "train_ps.head()"
   ]
  },
  {
   "cell_type": "code",
   "execution_count": 19,
   "id": "10b97933-afaa-41fa-806e-677db89c7bcd",
   "metadata": {},
   "outputs": [
    {
     "data": {
      "text/plain": [
       "<AxesSubplot:xlabel='M/F'>"
      ]
     },
     "execution_count": 19,
     "metadata": {},
     "output_type": "execute_result"
    },
    {
     "data": {
      "image/png": "[encoded data removed]",
      "text/plain": [
       "<Figure size 432x288 with 1 Axes>"
      ]
     },
     "metadata": {
      "needs_background": "light"
     },
     "output_type": "display_data"
    }
   ],
   "source": [
    "train_ps.groupby(['Group', 'M/F']).size().to_frame('number').reset_index().pivot('M/F', 'Group', 'number').plot(kind = 'bar', rot = 0)"
   ]
  },
  {
   "cell_type": "code",
   "execution_count": 20,
   "id": "90df77d9-8432-4b7d-b326-9c2a136c3aa4",
   "metadata": {},
   "outputs": [
    {
     "data": {
      "text/html": [
       "<div>\n",
       "<style scoped>\n",
       "    .dataframe tbody tr th:only-of-type {\n",
       "        vertical-align: middle;\n",
       "    }\n",
       "\n",
       "    .dataframe tbody tr th {\n",
       "        vertical-align: top;\n",
       "    }\n",
       "\n",
       "    .dataframe thead th {\n",
       "        text-align: right;\n",
       "    }\n",
       "</style>\n",
       "<table border=\"1\" class=\"dataframe\">\n",
       "  <thead>\n",
       "    <tr style=\"text-align: right;\">\n",
       "      <th></th>\n",
       "      <th>Group</th>\n",
       "      <th>M/F</th>\n",
       "      <th>Age</th>\n",
       "      <th>EDUC</th>\n",
       "      <th>SES</th>\n",
       "      <th>MMSE</th>\n",
       "      <th>eTIV</th>\n",
       "      <th>nWBV</th>\n",
       "      <th>ASF</th>\n",
       "    </tr>\n",
       "  </thead>\n",
       "  <tbody>\n",
       "    <tr>\n",
       "      <th>count</th>\n",
       "      <td>285.000000</td>\n",
       "      <td>285.000000</td>\n",
       "      <td>285.000000</td>\n",
       "      <td>285.000000</td>\n",
       "      <td>285.000000</td>\n",
       "      <td>285.000000</td>\n",
       "      <td>285.000000</td>\n",
       "      <td>285.000000</td>\n",
       "      <td>285.000000</td>\n",
       "    </tr>\n",
       "    <tr>\n",
       "      <th>mean</th>\n",
       "      <td>0.477193</td>\n",
       "      <td>0.435088</td>\n",
       "      <td>76.968421</td>\n",
       "      <td>14.743860</td>\n",
       "      <td>2.470175</td>\n",
       "      <td>27.417544</td>\n",
       "      <td>1489.277193</td>\n",
       "      <td>0.730470</td>\n",
       "      <td>1.194242</td>\n",
       "    </tr>\n",
       "    <tr>\n",
       "      <th>std</th>\n",
       "      <td>0.500358</td>\n",
       "      <td>0.496641</td>\n",
       "      <td>7.874615</td>\n",
       "      <td>2.905981</td>\n",
       "      <td>1.142946</td>\n",
       "      <td>3.652759</td>\n",
       "      <td>175.820082</td>\n",
       "      <td>0.037336</td>\n",
       "      <td>0.135744</td>\n",
       "    </tr>\n",
       "    <tr>\n",
       "      <th>min</th>\n",
       "      <td>0.000000</td>\n",
       "      <td>0.000000</td>\n",
       "      <td>60.000000</td>\n",
       "      <td>6.000000</td>\n",
       "      <td>1.000000</td>\n",
       "      <td>4.000000</td>\n",
       "      <td>1106.000000</td>\n",
       "      <td>0.644000</td>\n",
       "      <td>0.876000</td>\n",
       "    </tr>\n",
       "    <tr>\n",
       "      <th>25%</th>\n",
       "      <td>0.000000</td>\n",
       "      <td>0.000000</td>\n",
       "      <td>71.000000</td>\n",
       "      <td>12.000000</td>\n",
       "      <td>1.000000</td>\n",
       "      <td>27.000000</td>\n",
       "      <td>1353.000000</td>\n",
       "      <td>0.700000</td>\n",
       "      <td>1.104000</td>\n",
       "    </tr>\n",
       "    <tr>\n",
       "      <th>50%</th>\n",
       "      <td>0.000000</td>\n",
       "      <td>0.000000</td>\n",
       "      <td>77.000000</td>\n",
       "      <td>15.000000</td>\n",
       "      <td>2.000000</td>\n",
       "      <td>29.000000</td>\n",
       "      <td>1466.000000</td>\n",
       "      <td>0.731000</td>\n",
       "      <td>1.197000</td>\n",
       "    </tr>\n",
       "    <tr>\n",
       "      <th>75%</th>\n",
       "      <td>1.000000</td>\n",
       "      <td>1.000000</td>\n",
       "      <td>83.000000</td>\n",
       "      <td>17.000000</td>\n",
       "      <td>3.000000</td>\n",
       "      <td>30.000000</td>\n",
       "      <td>1590.000000</td>\n",
       "      <td>0.757000</td>\n",
       "      <td>1.297000</td>\n",
       "    </tr>\n",
       "    <tr>\n",
       "      <th>max</th>\n",
       "      <td>1.000000</td>\n",
       "      <td>1.000000</td>\n",
       "      <td>98.000000</td>\n",
       "      <td>23.000000</td>\n",
       "      <td>5.000000</td>\n",
       "      <td>30.000000</td>\n",
       "      <td>2004.000000</td>\n",
       "      <td>0.837000</td>\n",
       "      <td>1.587000</td>\n",
       "    </tr>\n",
       "  </tbody>\n",
       "</table>\n",
       "</div>"
      ],
      "text/plain": [
       "            Group         M/F         Age        EDUC         SES        MMSE         eTIV        nWBV         ASF\n",
       "count  285.000000  285.000000  285.000000  285.000000  285.000000  285.000000   285.000000  285.000000  285.000000\n",
       "mean     0.477193    0.435088   76.968421   14.743860    2.470175   27.417544  1489.277193    0.730470    1.194242\n",
       "std      0.500358    0.496641    7.874615    2.905981    1.142946    3.652759   175.820082    0.037336    0.135744\n",
       "min      0.000000    0.000000   60.000000    6.000000    1.000000    4.000000  1106.000000    0.644000    0.876000\n",
       "25%      0.000000    0.000000   71.000000   12.000000    1.000000   27.000000  1353.000000    0.700000    1.104000\n",
       "50%      0.000000    0.000000   77.000000   15.000000    2.000000   29.000000  1466.000000    0.731000    1.197000\n",
       "75%      1.000000    1.000000   83.000000   17.000000    3.000000   30.000000  1590.000000    0.757000    1.297000\n",
       "max      1.000000    1.000000   98.000000   23.000000    5.000000   30.000000  2004.000000    0.837000    1.587000"
      ]
     },
     "execution_count": 20,
     "metadata": {},
     "output_type": "execute_result"
    }
   ],
   "source": [
    "# lets see the summary of categorical columns\n",
    "train_ps.describe()"
   ]
  },
  {
   "cell_type": "markdown",
   "id": "5f4d32f6-5a69-48da-bbc4-827293dc4c08",
   "metadata": {},
   "source": [
    "#### BIVARIATE EDA BASED ON OUR TARGET\n",
    "\n",
    "Please note that we have EDA using `pyspark` AND `pandas`. The `pyspark` visualization capabilities are limited and we wanted to ensure that we demonstrated our ability to think through EDA and display necessary explorations the models to follow."
   ]
  },
  {
   "cell_type": "code",
   "execution_count": 21,
   "id": "4171a578-9fc5-4d37-827c-02a8f3f756e3",
   "metadata": {},
   "outputs": [
    {
     "data": {
      "text/html": [
       "<div>\n",
       "<style scoped>\n",
       "    .dataframe tbody tr th:only-of-type {\n",
       "        vertical-align: middle;\n",
       "    }\n",
       "\n",
       "    .dataframe tbody tr th {\n",
       "        vertical-align: top;\n",
       "    }\n",
       "\n",
       "    .dataframe thead th {\n",
       "        text-align: right;\n",
       "    }\n",
       "</style>\n",
       "<table border=\"1\" class=\"dataframe\">\n",
       "  <thead>\n",
       "    <tr style=\"text-align: right;\">\n",
       "      <th></th>\n",
       "      <th>Group</th>\n",
       "      <th>M/F</th>\n",
       "      <th>Age</th>\n",
       "      <th>EDUC</th>\n",
       "      <th>SES</th>\n",
       "      <th>MMSE</th>\n",
       "      <th>eTIV</th>\n",
       "      <th>nWBV</th>\n",
       "      <th>ASF</th>\n",
       "    </tr>\n",
       "  </thead>\n",
       "  <tbody>\n",
       "    <tr>\n",
       "      <th>0</th>\n",
       "      <td>0</td>\n",
       "      <td>0</td>\n",
       "      <td>64</td>\n",
       "      <td>16</td>\n",
       "      <td>3</td>\n",
       "      <td>29.0</td>\n",
       "      <td>1316</td>\n",
       "      <td>0.796</td>\n",
       "      <td>1.333</td>\n",
       "    </tr>\n",
       "    <tr>\n",
       "      <th>1</th>\n",
       "      <td>0</td>\n",
       "      <td>0</td>\n",
       "      <td>78</td>\n",
       "      <td>16</td>\n",
       "      <td>2</td>\n",
       "      <td>29.0</td>\n",
       "      <td>1333</td>\n",
       "      <td>0.748</td>\n",
       "      <td>1.316</td>\n",
       "    </tr>\n",
       "    <tr>\n",
       "      <th>2</th>\n",
       "      <td>0</td>\n",
       "      <td>0</td>\n",
       "      <td>80</td>\n",
       "      <td>16</td>\n",
       "      <td>2</td>\n",
       "      <td>29.0</td>\n",
       "      <td>1323</td>\n",
       "      <td>0.738</td>\n",
       "      <td>1.326</td>\n",
       "    </tr>\n",
       "    <tr>\n",
       "      <th>3</th>\n",
       "      <td>0</td>\n",
       "      <td>0</td>\n",
       "      <td>81</td>\n",
       "      <td>12</td>\n",
       "      <td>4</td>\n",
       "      <td>30.0</td>\n",
       "      <td>1230</td>\n",
       "      <td>0.715</td>\n",
       "      <td>1.427</td>\n",
       "    </tr>\n",
       "    <tr>\n",
       "      <th>4</th>\n",
       "      <td>0</td>\n",
       "      <td>0</td>\n",
       "      <td>83</td>\n",
       "      <td>16</td>\n",
       "      <td>2</td>\n",
       "      <td>29.0</td>\n",
       "      <td>1323</td>\n",
       "      <td>0.718</td>\n",
       "      <td>1.327</td>\n",
       "    </tr>\n",
       "  </tbody>\n",
       "</table>\n",
       "</div>"
      ],
      "text/plain": [
       "   Group  M/F  Age  EDUC  SES  MMSE  eTIV   nWBV    ASF\n",
       "0      0    0   64    16    3  29.0  1316  0.796  1.333\n",
       "1      0    0   78    16    2  29.0  1333  0.748  1.316\n",
       "2      0    0   80    16    2  29.0  1323  0.738  1.326\n",
       "3      0    0   81    12    4  30.0  1230  0.715  1.427\n",
       "4      0    0   83    16    2  29.0  1323  0.718  1.327"
      ]
     },
     "execution_count": 21,
     "metadata": {},
     "output_type": "execute_result"
    }
   ],
   "source": [
    "#pandas conversion for supplementary EDA\n",
    "train_pd = train.toPandas()\n",
    "\n",
    "train_pd.head()"
   ]
  },
  {
   "cell_type": "code",
   "execution_count": 22,
   "id": "965b88c7-165f-4898-817f-e13fbd4abce0",
   "metadata": {},
   "outputs": [],
   "source": [
    "#defining a UDF for pyspark plotting!\n",
    "def univar_plot(var, bin_num = 30):\n",
    "    fig, ax = plt.subplots()\n",
    "    hist(ax, [train.select(var).filter('Group = 1'), train.select(var).filter('Group = 0')], bins = bin_num, color = ['orange' , 'blue'])\n",
    "    \n",
    "    #setting up labeling\n",
    "    colors = [\"orange\", \"blue\"]\n",
    "    handles = [Rectangle((0, 0), 1, 1, color=c, ec=\"k\") for c in colors]\n",
    "    labels = ['Group = 1', 'Group = 0']\n",
    "    ax.legend(handles, labels)\n"
   ]
  },
  {
   "cell_type": "markdown",
   "id": "b06c44bd-9d00-4503-a4e1-20990be03852",
   "metadata": {},
   "source": [
    "First we show the `pyspark` histogram "
   ]
  },
  {
   "cell_type": "code",
   "execution_count": 23,
   "id": "1b38fea4-6fa5-4e98-acbf-cb52344f8b1c",
   "metadata": {},
   "outputs": [
    {
     "data": {
      "image/png": "[encoded data removed]",
      "text/plain": [
       "<Figure size 432x288 with 1 Axes>"
      ]
     },
     "metadata": {
      "needs_background": "light"
     },
     "output_type": "display_data"
    }
   ],
   "source": [
    "univar_plot('MMSE')"
   ]
  },
  {
   "cell_type": "markdown",
   "id": "f794ae3c-006b-4312-a588-04ffc88486e1",
   "metadata": {},
   "source": [
    "Now we show the distribution plot by grouping through `seaborn`. We will follow this format for a few more visualizations: pyspark hist and then seaborn dist."
   ]
  },
  {
   "cell_type": "code",
   "execution_count": 24,
   "id": "8e42a16f-5893-41d8-bd10-6a93c4d24857",
   "metadata": {},
   "outputs": [],
   "source": [
    "# Plotting distributions through seaborn\n",
    "def univariate_mul(var):\n",
    "    sns.displot(data=train_pd, x=var, hue='Group', kind='kde', fill=True, palette=sns.color_palette('bright')[:2], height=5, aspect=1.5)"
   ]
  },
  {
   "cell_type": "code",
   "execution_count": 25,
   "id": "102f7853-4e85-4858-bc75-78c7db4b6f4f",
   "metadata": {},
   "outputs": [
    {
     "data": {
      "image/png": "[encoded data removed]",
      "text/plain": [
       "<Figure size 582.375x360 with 1 Axes>"
      ]
     },
     "metadata": {
      "needs_background": "light"
     },
     "output_type": "display_data"
    }
   ],
   "source": [
    "univariate_mul('MMSE')"
   ]
  },
  {
   "cell_type": "markdown",
   "id": "e2d1fc35-f61f-4f8e-b5cf-23d524ac33cd",
   "metadata": {},
   "source": [
    "Based on this, MMSE is very heavily skewed. We see a lot of larger values with a heavy left tail.\n",
    "Group = 0 is nondemented and has a much higher density of MMSE scores than the Demented group. \n",
    "\n",
    "Recall, MMSE is a measurement of cognitive ability - so this makes sense.\n",
    "****************************\n",
    "Now we look into eTIV."
   ]
  },
  {
   "cell_type": "code",
   "execution_count": 26,
   "id": "cfe51e38-09a2-45ea-a9b7-e5a39b3e19be",
   "metadata": {},
   "outputs": [
    {
     "data": {
      "image/png": "[encoded data removed]",
      "text/plain": [
       "<Figure size 432x288 with 1 Axes>"
      ]
     },
     "metadata": {
      "needs_background": "light"
     },
     "output_type": "display_data"
    }
   ],
   "source": [
    "univar_plot('eTIV')"
   ]
  },
  {
   "cell_type": "code",
   "execution_count": 27,
   "id": "3c641a8f-bbe9-4534-aa34-a3d8d9420d91",
   "metadata": {},
   "outputs": [
    {
     "data": {
      "image/png": "[encoded data removed]",
      "text/plain": [
       "<Figure size 582.375x360 with 1 Axes>"
      ]
     },
     "metadata": {
      "needs_background": "light"
     },
     "output_type": "display_data"
    }
   ],
   "source": [
    "univariate_mul('eTIV')"
   ]
  },
  {
   "cell_type": "markdown",
   "id": "18195f6e-4bd2-45ad-9114-44f98872d89e",
   "metadata": {},
   "source": [
    "Fairly normally distributed and not a large visible difference.\n",
    "******************\n",
    "Now ASF. Remember we saw the ASF and eTIV we highly negatively correlated in the pairs plot."
   ]
  },
  {
   "cell_type": "code",
   "execution_count": 28,
   "id": "c81bc7af-0980-46a1-ad14-bb8ced1c854e",
   "metadata": {},
   "outputs": [
    {
     "data": {
      "image/png": "[encoded data removed]",
      "text/plain": [
       "<Figure size 432x288 with 1 Axes>"
      ]
     },
     "metadata": {
      "needs_background": "light"
     },
     "output_type": "display_data"
    }
   ],
   "source": [
    "univar_plot('ASF')"
   ]
  },
  {
   "cell_type": "code",
   "execution_count": 29,
   "id": "67f7c4d5-ee61-430e-aba1-6fe6d90ed279",
   "metadata": {},
   "outputs": [
    {
     "data": {
      "image/png": "[encoded data removed]",
      "text/plain": [
       "<Figure size 582.375x360 with 1 Axes>"
      ]
     },
     "metadata": {
      "needs_background": "light"
     },
     "output_type": "display_data"
    }
   ],
   "source": [
    "univariate_mul('ASF')"
   ]
  },
  {
   "cell_type": "markdown",
   "id": "d9148a0f-bc08-4d27-925a-4a490315760a",
   "metadata": {},
   "source": [
    "Fairly normal & not a large visible difference.\n",
    "********************\n",
    "Now nWBV"
   ]
  },
  {
   "cell_type": "code",
   "execution_count": 39,
   "id": "75b8cad3-14db-4b3c-96b9-4aa679d72df7",
   "metadata": {},
   "outputs": [
    {
     "data": {
      "image/png": "[encoded data removed]",
      "text/plain": [
       "<Figure size 432x288 with 1 Axes>"
      ]
     },
     "metadata": {
      "needs_background": "light"
     },
     "output_type": "display_data"
    }
   ],
   "source": [
    "univar_plot('nWBV')"
   ]
  },
  {
   "cell_type": "code",
   "execution_count": 75,
   "id": "3ff5771f-46a7-43c7-bf4b-28448aece67f",
   "metadata": {},
   "outputs": [
    {
     "data": {
      "image/png": "[encoded data removed]",
      "text/plain": [
       "<Figure size 582.375x360 with 1 Axes>"
      ]
     },
     "metadata": {
      "needs_background": "light"
     },
     "output_type": "display_data"
    }
   ],
   "source": [
    "univariate_mul('nWBV')"
   ]
  },
  {
   "cell_type": "markdown",
   "id": "ea43a4dd-e116-4f6d-a5e0-8619fa044976",
   "metadata": {},
   "source": [
    "Also, fairly normal & not a large difference.\n",
    "******************\n",
    "******************\n",
    "Now we will look at some counts using our pandas-on-spark df."
   ]
  },
  {
   "cell_type": "code",
   "execution_count": 287,
   "id": "f4c9754b-92b8-430e-b28d-fe72d70d93dd",
   "metadata": {},
   "outputs": [
    {
     "data": {
      "image/png": "[encoded data removed]",
      "text/plain": [
       "<Figure size 432x288 with 1 Axes>"
      ]
     },
     "metadata": {
      "needs_background": "light"
     },
     "output_type": "display_data"
    }
   ],
   "source": [
    "import matplotlib.pyplot as plt\n",
    "ax = train_ps.groupby('Group').size().plot.bar(x = 'Group', title = 'Group Count')\n",
    "plt.xticks(size=12)\n",
    "plt.xlabel('Demented', size=14)\n",
    "plt.yticks(size=12)\n",
    "plt.ylabel('Number', size=12)\n",
    "plt.title(\"Group Count\", size=16)\n",
    "ax.set_xticklabels(ax.get_xticklabels(), rotation=40, ha=\"right\")\n",
    "\n",
    "total = len(train_pd)\n",
    "for p in ax.patches:\n",
    "    percentage = f'{100 * p.get_height() / total:.1f}%\\n'\n",
    "    x = p.get_x() + p.get_width() / 2\n",
    "    y = p.get_height()\n",
    "    ax.annotate(percentage, (x, y), ha='center', va='center')\n",
    "plt.tight_layout()\n",
    "plt.show()"
   ]
  },
  {
   "cell_type": "markdown",
   "id": "c09ca2b5-85ec-4344-af24-45d211d188e9",
   "metadata": {},
   "source": [
    "As we can see from the above plot, there are around 47.7% demented cases in the training dataset i.e., majority of the data is of Non Demented.\n",
    "So lets analyze numerical features and perform univariate analysis on those features to see if we find any pattern or some interesting insights.\n",
    "\n",
    "The problem with this variable, is that it lacks information. Converted just tells us that a person's MRI now classified someone as being Demented, but we cannot see the \"progression\" or severity of dementia. "
   ]
  },
  {
   "cell_type": "code",
   "execution_count": 30,
   "id": "dd81982b-8966-4815-9276-fa9bc20023d0",
   "metadata": {},
   "outputs": [
    {
     "data": {
      "image/png": "[encoded data removed]",
      "text/plain": [
       "<Figure size 432x288 with 1 Axes>"
      ]
     },
     "metadata": {
      "needs_background": "light"
     },
     "output_type": "display_data"
    }
   ],
   "source": [
    "import matplotlib.pyplot as plt\n",
    "ax = train_ps.groupby(['EDUC', 'Group']).size().to_frame('number').reset_index().sort_values('EDUC').pivot('EDUC', 'Group', 'number').plot(kind = 'bar')\n",
    "plt.xticks(size=12)\n",
    "plt.xlabel('EDUC', size=14)\n",
    "plt.yticks(size=12)\n",
    "plt.ylabel('Number', size=12)\n",
    "plt.title(\"EDUC Count\", size=16)\n",
    "ax.set_xticklabels(ax.get_xticklabels(), rotation=40, ha=\"right\")\n",
    "\n",
    "total = len(train_pd)\n",
    "for p in ax.patches:\n",
    "    percentage = f'{100 * p.get_height() / total:.1f}%\\n'\n",
    "    x = p.get_x() + p.get_width() / 2\n",
    "    y = p.get_height()\n",
    "    ax.annotate(percentage, (x, y), ha='center', va='center')\n",
    "plt.tight_layout()\n",
    "plt.show()"
   ]
  },
  {
   "cell_type": "markdown",
   "id": "8ef4a69e-2f73-42ea-a52a-728ab9a9f15a",
   "metadata": {},
   "source": [
    "We see more have 12 years of education (high school education). More of the demented cases seem to end with 12 years of education. When we get up to 18 years of education, we see that the Nondemented individuals take over."
   ]
  },
  {
   "cell_type": "code",
   "execution_count": 31,
   "id": "85b9e2af-09b9-43fd-9890-1ca6a783f633",
   "metadata": {},
   "outputs": [
    {
     "data": {
      "image/png": "[encoded data removed]",
      "text/plain": [
       "<Figure size 432x288 with 1 Axes>"
      ]
     },
     "metadata": {
      "needs_background": "light"
     },
     "output_type": "display_data"
    }
   ],
   "source": [
    "import matplotlib.pyplot as plt\n",
    "ax = train_ps.groupby(['SES', 'Group']).size().to_frame('number').reset_index().sort_values('SES').pivot('SES', 'Group', 'number').plot(kind = 'bar')\n",
    "plt.xticks(size=12)\n",
    "plt.xlabel('SES', size=14)\n",
    "plt.yticks(size=12)\n",
    "plt.ylabel('Number', size=12)\n",
    "plt.title(\"SES Count\", size=16)\n",
    "ax.set_xticklabels(ax.get_xticklabels(), rotation=40, ha=\"right\")\n",
    "\n",
    "total = len(train_pd)\n",
    "for p in ax.patches:\n",
    "    percentage = f'{100 * p.get_height() / total:.1f}%\\n'\n",
    "    x = p.get_x() + p.get_width() / 2\n",
    "    y = p.get_height()\n",
    "    ax.annotate(percentage, (x, y), ha='center', va='center')\n",
    "plt.tight_layout()\n",
    "plt.show()"
   ]
  },
  {
   "cell_type": "markdown",
   "id": "61d4bc9d-e213-4bfa-b8df-a994185930bd",
   "metadata": {},
   "source": [
    "SMALLER SES = HIGHER SES. Hard to interpret these results."
   ]
  },
  {
   "cell_type": "markdown",
   "id": "ffd11c4f-b925-43ad-8aa2-7fdda1f83934",
   "metadata": {},
   "source": [
    "Now let's look at EDUC and SES a little more.\n",
    "\n",
    "First we provide a scatter plot of EDUC and SES using our spark df.\n",
    "\n",
    "Then to plot a fitted line we actually have to use some pandas capabilities - so we provide that below the first graph with the fitted line."
   ]
  },
  {
   "cell_type": "code",
   "execution_count": 32,
   "id": "ebf4f969-fdae-420c-864d-0b3bb4385db1",
   "metadata": {},
   "outputs": [
    {
     "data": {
      "text/plain": [
       "Text(0, 0.5, 'Social Economic Status(SES)')"
      ]
     },
     "execution_count": 32,
     "metadata": {},
     "output_type": "execute_result"
    },
    {
     "data": {
      "image/png": "[encoded data removed]",
      "text/plain": [
       "<Figure size 432x288 with 1 Axes>"
      ]
     },
     "metadata": {
      "needs_background": "light"
     },
     "output_type": "display_data"
    }
   ],
   "source": [
    "ps.DataFrame(train.select(col('EDUC'), col('SES'))).plot.scatter(x = 'EDUC', y = 'SES')\n",
    "plt.xlabel('Education Level (EDUC)')\n",
    "plt.ylabel('Social Economic Status(SES)')"
   ]
  },
  {
   "cell_type": "code",
   "execution_count": 46,
   "id": "de6fbb83-05c8-4f1c-b06c-e29b54819a9b",
   "metadata": {},
   "outputs": [
    {
     "data": {
      "image/png": "[encoded data removed]",
      "text/plain": [
       "<Figure size 432x288 with 1 Axes>"
      ]
     },
     "metadata": {
      "needs_background": "light"
     },
     "output_type": "display_data"
    }
   ],
   "source": [
    "# Draw scatter plot between EDUC and SES\n",
    "x = train_pd['EDUC']\n",
    "y = train_pd['SES']\n",
    "\n",
    "ses_not_null_index = y[~y.isnull()].index\n",
    "x = x[ses_not_null_index]\n",
    "y = y[ses_not_null_index]\n",
    "\n",
    "# Draw trend line in red\n",
    "z = np.polyfit(x, y, 1)\n",
    "p = np.poly1d(z)\n",
    "plt.plot(x, y, 'go', x, p(x), \"r--\")\n",
    "plt.xlabel('Education Level(EDUC)')\n",
    "plt.ylabel('Social Economic Status(SES)')\n",
    "\n",
    "plt.show()"
   ]
  },
  {
   "cell_type": "markdown",
   "id": "e0b5c87a-f610-4662-9bca-7983063da7e6",
   "metadata": {},
   "source": [
    "SES is ranked as lower number = higher status. Education increase is indicative of more education. Thus, more education does seem to suggest a higher SES standing in this cohort.\n",
    "\n",
    "It seems as though we can maybe drop SES since there aren't major discrepencies between Nondemented and Demented individuals (besides SES =2)."
   ]
  },
  {
   "cell_type": "markdown",
   "id": "caccd8d8-e30d-4393-9696-79faa30215a0",
   "metadata": {},
   "source": [
    "### MODELS\n",
    "Since we seek to predict Alzheimer's onset dementia with a categorical variable as our outcome, we will look into fitting several classification models and compare their performance utilizing a few metrics.\n",
    "\n",
    "First we do some data pre-processing.\n",
    "\n",
    "We already split the data into train and test."
   ]
  },
  {
   "cell_type": "code",
   "execution_count": 36,
   "id": "e0492e88-edea-4763-90e4-6d901d03f752",
   "metadata": {},
   "outputs": [],
   "source": [
    "#make a copy of data in case we mess up\n",
    "train2 = train\n",
    "test2 = test"
   ]
  },
  {
   "cell_type": "code",
   "execution_count": 37,
   "id": "609cfe2a-319c-44bd-b2e8-4940f6205bf7",
   "metadata": {},
   "outputs": [
    {
     "name": "stdout",
     "output_type": "stream",
     "text": [
      "+-----+---+---+----+---+----+----+-----+-----+\n",
      "|Group|M/F|Age|EDUC|SES|MMSE|eTIV| nWBV|  ASF|\n",
      "+-----+---+---+----+---+----+----+-----+-----+\n",
      "|    0|  0| 64|  16|  3|29.0|1316|0.796|1.333|\n",
      "|    0|  0| 78|  16|  2|29.0|1333|0.748|1.316|\n",
      "|    0|  0| 80|  16|  2|29.0|1323|0.738|1.326|\n",
      "|    0|  0| 81|  12|  4|30.0|1230|0.715|1.427|\n",
      "|    0|  0| 83|  16|  2|29.0|1323|0.718|1.327|\n",
      "+-----+---+---+----+---+----+----+-----+-----+\n",
      "only showing top 5 rows\n",
      "\n"
     ]
    }
   ],
   "source": [
    "#check...good\n",
    "train2.show(5)"
   ]
  },
  {
   "cell_type": "markdown",
   "id": "efde3dcc-b284-453e-992d-e382f2854c14",
   "metadata": {},
   "source": [
    "Since we had to split before EDA, this makes this a little messy and non-sequeter.\n",
    "We will now have to transform both the test and training data to set up the feature and labels for both. We will also have to set up the center/scale for both the train and test sets.\n",
    "\n",
    "First let's transform and select the data we want to use.\n",
    "\n",
    "We transform MMSE since it was heavily skewed."
   ]
  },
  {
   "cell_type": "code",
   "execution_count": 38,
   "id": "fde6b924-1d19-4e53-b6e8-b688eb0a7152",
   "metadata": {},
   "outputs": [],
   "source": [
    "sqlTrans = SQLTransformer(\n",
    "    statement = \"SELECT EDUC, Age, log(MMSE) as log_MMSE, eTIV, nWBV, ASF, Group as label FROM __THIS__\"\n",
    ")\n",
    "#not using M/F or SES\n",
    "\n",
    "#_THIS_ notates use the dataset that gets passed to this function.\n"
   ]
  },
  {
   "cell_type": "code",
   "execution_count": 39,
   "id": "b5bc9f6c-ec8a-4848-a510-025cd8ea1a9b",
   "metadata": {},
   "outputs": [],
   "source": [
    "features = ['Age','log_MMSE','eTIV','nWBV','ASF', 'EDUC']"
   ]
  },
  {
   "cell_type": "markdown",
   "id": "734d29e9-b6bc-4b32-93b9-59dcbff00d03",
   "metadata": {},
   "source": [
    "Now we utilize pipelining to set up the features and labels."
   ]
  },
  {
   "cell_type": "code",
   "execution_count": 40,
   "id": "34d1f6c2-48ef-4c87-b683-85d8e9261907",
   "metadata": {},
   "outputs": [],
   "source": [
    "# ASSEMBLIES WE WILL USE TO GET THE FEATURES\n",
    "assembler = VectorAssembler(inputCols = features, outputCol = \"features\")"
   ]
  },
  {
   "cell_type": "markdown",
   "id": "c1f01998-0187-4e26-8648-1bcf8b234593",
   "metadata": {},
   "source": [
    "We could use the sqlTrans and assembler in a Pipeline, but since we could not get the transform to work in conjunction with the model fits, we run the transformations beforehand in a nested format.\n",
    "\n",
    "We will use a Pipeline to chain multiple Transformers and Estimators together to specify our machine learning workflow. A Pipeline’s stages are specified as an ordered array.\n",
    "\n",
    "The above code indexes each categorical column using the StringIndexer, then converts the indexed categories into one-hot encoded variables. The resulting output has the binary vectors appended to the end of each row. We use the StringIndexer again to encode our labels to label indices. Next, we use the VectorAssembler to combine all the feature columns into a single vector column."
   ]
  },
  {
   "cell_type": "markdown",
   "id": "5ba8ee5b-6dcc-4c6d-9f77-c28e6b23cc58",
   "metadata": {},
   "source": [
    "Our target is Group and is called 'label'.\n",
    "\n",
    "All features including the categorical are in 'features.'"
   ]
  },
  {
   "cell_type": "code",
   "execution_count": 41,
   "id": "5343f0c5-c986-426a-8670-4a44c2cc1941",
   "metadata": {},
   "outputs": [],
   "source": [
    "from pyspark.ml.feature import StandardScaler\n",
    "\n",
    "scaler = StandardScaler(inputCol=\"features\", outputCol=\"scaledFeatures\",\n",
    "                        withStd=True, withMean=False)"
   ]
  },
  {
   "cell_type": "markdown",
   "id": "01fbd283-0f1d-466e-8535-6e88f9b91463",
   "metadata": {},
   "source": [
    "We will set up the \"set-up Pipeline.\" We could include this in one massive pipeline for each model we consider, but the StandardScaler did not cooperate and it is important to center/scale the data. Thus, we did not want to risk not having properly formatted data for the classification models we consider."
   ]
  },
  {
   "cell_type": "code",
   "execution_count": 42,
   "id": "9a54408e-fff1-4e13-a861-84acf4f9003c",
   "metadata": {},
   "outputs": [],
   "source": [
    "set_pipe = Pipeline(stages = [sqlTrans, assembler, scaler])"
   ]
  },
  {
   "cell_type": "code",
   "execution_count": 43,
   "id": "8c1a64e8-c8aa-49c0-91c1-0286110737e7",
   "metadata": {},
   "outputs": [],
   "source": [
    "piped = set_pipe.fit(train2)\n",
    "\n",
    "trained = piped.transform(train2)"
   ]
  },
  {
   "cell_type": "code",
   "execution_count": 44,
   "id": "878b6157-dd2f-4cee-b21d-3fc92f865a2c",
   "metadata": {},
   "outputs": [
    {
     "name": "stdout",
     "output_type": "stream",
     "text": [
      "+----+---+------------------+----+-----+-----+-----+--------------------+--------------------+\n",
      "|EDUC|Age|          log_MMSE|eTIV| nWBV|  ASF|label|            features|      scaledFeatures|\n",
      "+----+---+------------------+----+-----+-----+-----+--------------------+--------------------+\n",
      "|  16| 64| 3.367295829986474|1316|0.796|1.333|    0|[64.0,3.367295829...|[8.12738138432202...|\n",
      "|  16| 78| 3.367295829986474|1333|0.748|1.316|    0|[78.0,3.367295829...|[9.90524606214246...|\n",
      "|  16| 80| 3.367295829986474|1323|0.738|1.326|    0|[80.0,3.367295829...|[10.1592267304025...|\n",
      "|  12| 81|3.4011973816621555|1230|0.715|1.427|    0|[81.0,3.401197381...|[10.2862170645325...|\n",
      "|  16| 83| 3.367295829986474|1323|0.718|1.327|    0|[83.0,3.367295829...|[10.5401977327926...|\n",
      "+----+---+------------------+----+-----+-----+-----+--------------------+--------------------+\n",
      "only showing top 5 rows\n",
      "\n"
     ]
    }
   ],
   "source": [
    "#checking...good!!!\n",
    "trained.show(5)"
   ]
  },
  {
   "cell_type": "markdown",
   "id": "c7ab45f1-c735-40ba-ba3f-2b0cf944ce20",
   "metadata": {},
   "source": [
    "We repeat for the test data."
   ]
  },
  {
   "cell_type": "code",
   "execution_count": 45,
   "id": "a7a57d45-f724-448e-b864-fc2929461684",
   "metadata": {},
   "outputs": [],
   "source": [
    "piped = set_pipe.fit(test2)\n",
    "\n",
    "tested = piped.transform(test2)"
   ]
  },
  {
   "cell_type": "markdown",
   "id": "7ca840b4-efeb-4c4a-9a78-b5654b135b4d",
   "metadata": {},
   "source": [
    "### Classification Pipeline\n",
    "\n",
    "Now we work to set up the Classification Models!\n",
    "\n",
    "We choose to use PCA as a step in the pipeline to select features which explain variability in the data.\n",
    "\n",
    "We won't use this for k-NN as this is a clustering method...but for the tree methods, we try to reduce the predictor space to a list of orthogonal components which explain the most variability in the data. We use these uncorrelated PC's as a way to handle some of the correlation present in the data. The only downside is that we lose some of the interpretability of the features which are selected as 'important' to the models."
   ]
  },
  {
   "cell_type": "code",
   "execution_count": 47,
   "id": "a355db1a-d423-4fb7-96bc-5b73f8cda5fc",
   "metadata": {},
   "outputs": [],
   "source": [
    "#set up PCA\n",
    "pca_model = PCA(inputCol = \"scaledFeatures\", outputCol = \"pca_features_cv\")"
   ]
  },
  {
   "cell_type": "markdown",
   "id": "c7f1231f-9618-45b5-9517-af9ba7581f42",
   "metadata": {},
   "source": [
    "We set up the pyspark.ml classifiers here."
   ]
  },
  {
   "cell_type": "code",
   "execution_count": 48,
   "id": "62527d2f-2477-4fed-8b1d-66c7b7f2115c",
   "metadata": {},
   "outputs": [],
   "source": [
    "#set up random forest\n",
    "rf = RandomForestClassifier(labelCol = \"label\", featuresCol = \"pca_features_cv\")\n",
    "\n",
    "#set up decision tree\n",
    "dt = DecisionTreeClassifier(labelCol = \"label\", featuresCol = 'pca_features_cv')\n",
    "\n",
    "#set up k-nn\n",
    "knn = KMeans(maxIter = 50)\n",
    "\n",
    "#set up xgboost\n",
    "gbt = GBTClassifier(maxIter=50)"
   ]
  },
  {
   "cell_type": "markdown",
   "id": "f31a28e5-b2d1-458e-b83f-a8cec791ec32",
   "metadata": {},
   "source": [
    "Now we set up the pipelines for all of the Classification Models we consider."
   ]
  },
  {
   "cell_type": "code",
   "execution_count": 49,
   "id": "1fb8e566-ffc5-447b-b406-fde8035a18e5",
   "metadata": {},
   "outputs": [],
   "source": [
    "# decision tree pipeline\n",
    "pipeline_dt=Pipeline(stages = [pca_model, dt])\n",
    "\n",
    "# random forest pipeline\n",
    "pipeline_rf = Pipeline(stages = [pca_model, rf])\n",
    "\n",
    "# k-nn pipeline\n",
    "pipeline_kn=Pipeline(stages = [knn]) #we omit the pca step for this  model\n",
    "\n",
    "# xgboost pipeline\n",
    "pipeline_xgb=Pipeline(stages = [gbt])"
   ]
  },
  {
   "cell_type": "markdown",
   "id": "76d67199-4d95-4a85-bfa8-decd957ea01b",
   "metadata": {},
   "source": [
    "### DECISION TREE MODEL\n",
    "\n",
    "A Decision Tree is a tree-like graph where sorting starts from the root node to the leaf node until the target is achieved. It is the most popular one for decision and classification based on supervised algorithms. It is constructed by recursive partitioning where each node acts as a test case for some attributes and each edge, deriving from the node, is a possible answer in the test case. Both the root and leaf nodes are two entities of the algorithm. This is a SUPERVISED MACHINE LEARNING technique (i.e. it will consider 'label' when splitting by the 'features' we supply). [[learn more here]](https://www.javatpoint.com/machine-learning-decision-tree-classification-algorithm)\n"
   ]
  },
  {
   "cell_type": "code",
   "execution_count": 50,
   "id": "0abbdcc3-3d00-47a3-8c4e-cec29133bf99",
   "metadata": {},
   "outputs": [],
   "source": [
    "paramGrid_dt = ParamGridBuilder() \\\n",
    "    .addGrid(pca_model.k, [2,3,4,5,6]) \\\n",
    "    .addGrid(dt.maxDepth, [2,3,4,5,6]) \\\n",
    "    .addGrid(dt.minInstancesPerNode, [10,15,20,25]) \\\n",
    "    .build()\n",
    "\n",
    "crossval_dt = CrossValidator(estimator = pipeline_dt,\n",
    "                            estimatorParamMaps=paramGrid_dt,\n",
    "                            evaluator = BinaryClassificationEvaluator(labelCol = \"label\"),\n",
    "                            numFolds= 5) #5 fold CV\n",
    "\n",
    "cv_dt = crossval_dt.fit(trained)"
   ]
  },
  {
   "cell_type": "code",
   "execution_count": 51,
   "id": "d7be476b-b73c-4206-b64b-7cf93b6a5c58",
   "metadata": {},
   "outputs": [
    {
     "name": "stdout",
     "output_type": "stream",
     "text": [
      "0.5317944250871081\n"
     ]
    }
   ],
   "source": [
    "predictions = cv_dt.transform(tested)\n",
    "evaluator= BinaryClassificationEvaluator(labelCol = \"label\", rawPredictionCol=\"probability\", metricName= \"areaUnderROC\")\n",
    "performance_dt = evaluator.evaluate(predictions)\n",
    "\n",
    "print(performance_dt)"
   ]
  },
  {
   "cell_type": "markdown",
   "id": "f9b680e3-8a05-426e-bc1f-b80ad2076564",
   "metadata": {},
   "source": [
    "This evaluator calculates the area under the ROC. This is a metric that combines the two kinds of errors a binary classifier can make (false positives and false negatives) into a simple number."
   ]
  },
  {
   "cell_type": "markdown",
   "id": "5039366b-5ff3-4892-b2c6-5d7639f2dcc2",
   "metadata": {},
   "source": [
    "We see here that our Decision Tree Model did really quite poorly. \n",
    "Area under the ROC closer to 1 is almost a perfect predictor. If is it less than 0.5, then we essentially have a model that performance worse than a coin flip."
   ]
  },
  {
   "cell_type": "code",
   "execution_count": 52,
   "id": "a314a983-0d29-4a4e-82cf-0886896ecf95",
   "metadata": {},
   "outputs": [
    {
     "data": {
      "text/html": [
       "<div>\n",
       "<style scoped>\n",
       "    .dataframe tbody tr th:only-of-type {\n",
       "        vertical-align: middle;\n",
       "    }\n",
       "\n",
       "    .dataframe tbody tr th {\n",
       "        vertical-align: top;\n",
       "    }\n",
       "\n",
       "    .dataframe thead th {\n",
       "        text-align: right;\n",
       "    }\n",
       "</style>\n",
       "<table border=\"1\" class=\"dataframe\">\n",
       "  <thead>\n",
       "    <tr style=\"text-align: right;\">\n",
       "      <th></th>\n",
       "      <th>areaUnderROC</th>\n",
       "      <th>k</th>\n",
       "      <th>maxDepth</th>\n",
       "      <th>minInstancesPerNode</th>\n",
       "    </tr>\n",
       "  </thead>\n",
       "  <tbody>\n",
       "    <tr>\n",
       "      <th>56</th>\n",
       "      <td>0.766856</td>\n",
       "      <td>4</td>\n",
       "      <td>6</td>\n",
       "      <td>10</td>\n",
       "    </tr>\n",
       "    <tr>\n",
       "      <th>76</th>\n",
       "      <td>0.764238</td>\n",
       "      <td>5</td>\n",
       "      <td>6</td>\n",
       "      <td>10</td>\n",
       "    </tr>\n",
       "    <tr>\n",
       "      <th>96</th>\n",
       "      <td>0.759439</td>\n",
       "      <td>6</td>\n",
       "      <td>6</td>\n",
       "      <td>10</td>\n",
       "    </tr>\n",
       "    <tr>\n",
       "      <th>57</th>\n",
       "      <td>0.741393</td>\n",
       "      <td>4</td>\n",
       "      <td>6</td>\n",
       "      <td>15</td>\n",
       "    </tr>\n",
       "    <tr>\n",
       "      <th>36</th>\n",
       "      <td>0.729525</td>\n",
       "      <td>3</td>\n",
       "      <td>6</td>\n",
       "      <td>10</td>\n",
       "    </tr>\n",
       "    <tr>\n",
       "      <th>...</th>\n",
       "      <td>...</td>\n",
       "      <td>...</td>\n",
       "      <td>...</td>\n",
       "      <td>...</td>\n",
       "    </tr>\n",
       "    <tr>\n",
       "      <th>27</th>\n",
       "      <td>0.467186</td>\n",
       "      <td>3</td>\n",
       "      <td>3</td>\n",
       "      <td>25</td>\n",
       "    </tr>\n",
       "    <tr>\n",
       "      <th>4</th>\n",
       "      <td>0.463120</td>\n",
       "      <td>2</td>\n",
       "      <td>3</td>\n",
       "      <td>10</td>\n",
       "    </tr>\n",
       "    <tr>\n",
       "      <th>1</th>\n",
       "      <td>0.461451</td>\n",
       "      <td>2</td>\n",
       "      <td>2</td>\n",
       "      <td>15</td>\n",
       "    </tr>\n",
       "    <tr>\n",
       "      <th>3</th>\n",
       "      <td>0.461451</td>\n",
       "      <td>2</td>\n",
       "      <td>2</td>\n",
       "      <td>25</td>\n",
       "    </tr>\n",
       "    <tr>\n",
       "      <th>2</th>\n",
       "      <td>0.461451</td>\n",
       "      <td>2</td>\n",
       "      <td>2</td>\n",
       "      <td>20</td>\n",
       "    </tr>\n",
       "  </tbody>\n",
       "</table>\n",
       "<p>100 rows × 4 columns</p>\n",
       "</div>"
      ],
      "text/plain": [
       "    areaUnderROC  k  maxDepth  minInstancesPerNode\n",
       "56      0.766856  4         6                   10\n",
       "76      0.764238  5         6                   10\n",
       "96      0.759439  6         6                   10\n",
       "57      0.741393  4         6                   15\n",
       "36      0.729525  3         6                   10\n",
       "..           ... ..       ...                  ...\n",
       "27      0.467186  3         3                   25\n",
       "4       0.463120  2         3                   10\n",
       "1       0.461451  2         2                   15\n",
       "3       0.461451  2         2                   25\n",
       "2       0.461451  2         2                   20\n",
       "\n",
       "[100 rows x 4 columns]"
      ]
     },
     "execution_count": 52,
     "metadata": {},
     "output_type": "execute_result"
    }
   ],
   "source": [
    "#extract parameters\n",
    "params_dt = [{p.name: v for p, v in m.items()} for m in cv_dt.getEstimatorParamMaps()]\n",
    "\n",
    "dt_results = pd.DataFrame.from_dict([\n",
    "    {cv_dt.getEvaluator().getMetricName(): metric, **ps} \n",
    "    for ps, metric in zip(params_dt, cv_dt.avgMetrics)\n",
    "])\n",
    "\n",
    "dt_results.sort_values(by = 'areaUnderROC', ascending = False)"
   ]
  },
  {
   "cell_type": "markdown",
   "id": "d66b3e84-60f9-4a62-8d1d-335d269d2832",
   "metadata": {},
   "source": [
    "The results show that our Decision Tree with the best TRAINING areaUROC has 4 principal components (so we did not reduce the predictor space), a maxdepth of 6, and 10 instances per node.\n",
    "\n",
    "Since we did not reduce the predictor space, let's remove the PCA step and see if we can extract the raw scaled feature importances afterwards."
   ]
  },
  {
   "cell_type": "code",
   "execution_count": 53,
   "id": "b83cb07d-9018-4ebc-b1df-9d9116f02825",
   "metadata": {},
   "outputs": [],
   "source": [
    "dt2 = DecisionTreeClassifier(labelCol = \"label\", featuresCol = 'features')\n",
    "pipeline_dt2=Pipeline(stages = [dt2])"
   ]
  },
  {
   "cell_type": "code",
   "execution_count": 54,
   "id": "41794361-fd83-4fe9-87fa-415c65dd065b",
   "metadata": {},
   "outputs": [],
   "source": [
    "paramGrid_dt2 = ParamGridBuilder() \\\n",
    "    .addGrid(dt.maxDepth, [2,3,4,5,6]) \\\n",
    "    .addGrid(dt.minInstancesPerNode, [10,15,20,25]) \\\n",
    "    .build()\n",
    "\n",
    "crossval_dt2 = CrossValidator(estimator = pipeline_dt2,\n",
    "                            estimatorParamMaps=paramGrid_dt2,\n",
    "                            evaluator = BinaryClassificationEvaluator(labelCol = \"label\"),\n",
    "                            numFolds= 5) #5 fold CV return features for the model\n",
    "\n",
    "cv_dt = crossval_dt2.fit(trained)"
   ]
  },
  {
   "cell_type": "code",
   "execution_count": 55,
   "id": "878abbd7-0e3a-49d7-bbd7-d8b1bbb1e2a2",
   "metadata": {},
   "outputs": [
    {
     "name": "stdout",
     "output_type": "stream",
     "text": [
      "0.8109756097560976\n"
     ]
    }
   ],
   "source": [
    "predictions = cv_dt.transform(tested)\n",
    "evaluator= BinaryClassificationEvaluator(labelCol = \"label\", rawPredictionCol=\"probability\", metricName= \"areaUnderROC\")\n",
    "performance_dt2 = evaluator.evaluate(predictions)\n",
    "\n",
    "print(performance_dt2)"
   ]
  },
  {
   "cell_type": "markdown",
   "id": "022d8763-5744-4828-b72d-e6f88d1d826d",
   "metadata": {},
   "source": [
    "This one does MUCH MUCH BETTER WITH TEST AreaUnderROC!"
   ]
  },
  {
   "cell_type": "code",
   "execution_count": 56,
   "id": "7fa01e84-2ddc-42fc-880b-b52eb074c735",
   "metadata": {},
   "outputs": [
    {
     "data": {
      "text/plain": [
       "SparseVector(6, {0: 0.0866, 1: 0.7669, 2: 0.0502, 3: 0.0872, 5: 0.0092})"
      ]
     },
     "execution_count": 56,
     "metadata": {},
     "output_type": "execute_result"
    }
   ],
   "source": [
    "#get features\n",
    "# '0' for the stage in pipeline where model fit\n",
    "dt_ft = cv_dt.bestModel.stages[0] \n",
    "var_imp_dt = dt_ft.featureImportances\n",
    "\n",
    "var_imp_dt"
   ]
  },
  {
   "cell_type": "markdown",
   "id": "2595bd0d-fbc3-44ad-96fd-846ab3ec2080",
   "metadata": {},
   "source": [
    "We see that the feature that is the most important is the second element in the 'feature' vector we input.\n",
    "features = ['Age','log_MMSE','eTIV','nWBV','ASF', 'EDUC']\n",
    "\n",
    "So, log(MMSE) is the most important. We actually see that ASF (the 5th element...or index 4) does not even appear in the feature importance list!"
   ]
  },
  {
   "cell_type": "markdown",
   "id": "c7372cb1-2829-4295-9a0f-3dc9c9624d92",
   "metadata": {},
   "source": [
    "### RANDOM FOREST MODEL\n",
    "\n",
    "To begin, a random forest is a compilation of many trees. Trees are simply an easy to interpret visualization method of how to split up the data into multiple categories. The process of forming a tree is simple\n",
    "- divide the predictor space into J distinct and non-overlapping regions, R_1,...,R_J \n",
    "- For every observation that falls into the region R_j, we make the same prediction.\n",
    "\n",
    "The algorithm for building the trees is greedy. This means that at each step in splitting the tree, we take the best possible situation at each step rather than going through all possible splits to find the overall optimum result.\n",
    "\n",
    "What determines the best possible situation? Rather than trying to minimize mean squared error (as is the case for continuous data),  we wish to minimize classification error rate. Classification trees predict using whatever response is most common in the leaf, R_j. Therefore, classification error rate refers to the fraction of outcomes in the leaf that are not the most common response category. The best way of measuring this error is with a form of the Gini Index known as entropy.\n",
    "\n",
    "Another way to think about RF is:\n",
    "Assuming your dataset has “m” features, the random forest will randomly choose “k” features where k < m.  Now, the algorithm will calculate the root node among the k features by picking a node that has the highest information gain. \n",
    "\n",
    "After that, the algorithm splits the node into child nodes and repeats this process “n” times. Now you have a forest with n trees. Finally, you’ll perform bootstrapping, i.e., combine the results of all the decision trees present in your forest.\n",
    "\n",
    "It is certainly one of the most sophisticated algorithms as it builds on the functionality of decision trees. \n",
    "\n",
    "Technically, it is an ensemble algorithm. The algorithm generates the individual decision trees through an attribute selection indication. Every tree relies on an independent random sample. In a classification problem, every tree votes and the most popular class is the end result. "
   ]
  },
  {
   "cell_type": "code",
   "execution_count": 57,
   "id": "c2380284-17ac-4f0c-968e-0e7db7741dc4",
   "metadata": {},
   "outputs": [],
   "source": [
    "paramGrid_rf = ParamGridBuilder() \\\n",
    "      .addGrid(pca_model.k, [1,2,3,4,5,6]) \\\n",
    "      .addGrid(rf.numTrees, [5,10,15,20]) \\\n",
    "      .build()\n",
    "\n",
    "crossval_rf = CrossValidator(estimator = pipeline_rf,\n",
    "                            estimatorParamMaps=paramGrid_rf,\n",
    "                            evaluator = BinaryClassificationEvaluator(labelCol = \"label\"),\n",
    "                            numFolds= 5)\n",
    "\n",
    "cv_rf = crossval_rf.fit(trained)"
   ]
  },
  {
   "cell_type": "markdown",
   "id": "f527de1a-c306-4591-8b77-bed9554f874d",
   "metadata": {},
   "source": [
    "Now we evaluate the accuracy of our Cross Validated RF model!!"
   ]
  },
  {
   "cell_type": "code",
   "execution_count": 58,
   "id": "b7cee2dd-8bbb-4927-9456-c103e41a1481",
   "metadata": {},
   "outputs": [
    {
     "name": "stdout",
     "output_type": "stream",
     "text": [
      "0.6106271777003485\n"
     ]
    }
   ],
   "source": [
    "predictions = cv_rf.transform(tested)\n",
    "evaluator= BinaryClassificationEvaluator(labelCol = \"label\", rawPredictionCol=\"probability\", metricName= \"areaUnderROC\")\n",
    "performance_rf = evaluator.evaluate(predictions)\n",
    "\n",
    "print(performance_rf)"
   ]
  },
  {
   "cell_type": "markdown",
   "id": "7ed86344-2b5e-4998-b48b-7d9f5f9384e6",
   "metadata": {},
   "source": [
    "Our Cross Validated Random Forest model has Area under the ROC of 0.6106. This is definitely better than the Decision Tree, but still not great.\n",
    "\n",
    "Maybe the next 2 methods will do better. But first let's look at the parameters and feature importance."
   ]
  },
  {
   "cell_type": "code",
   "execution_count": 59,
   "id": "4b13b99a-9250-4642-b2dc-c0f79796fcd7",
   "metadata": {},
   "outputs": [
    {
     "data": {
      "text/html": [
       "<div>\n",
       "<style scoped>\n",
       "    .dataframe tbody tr th:only-of-type {\n",
       "        vertical-align: middle;\n",
       "    }\n",
       "\n",
       "    .dataframe tbody tr th {\n",
       "        vertical-align: top;\n",
       "    }\n",
       "\n",
       "    .dataframe thead th {\n",
       "        text-align: right;\n",
       "    }\n",
       "</style>\n",
       "<table border=\"1\" class=\"dataframe\">\n",
       "  <thead>\n",
       "    <tr style=\"text-align: right;\">\n",
       "      <th></th>\n",
       "      <th>areaUnderROC</th>\n",
       "      <th>k</th>\n",
       "      <th>numTrees</th>\n",
       "    </tr>\n",
       "  </thead>\n",
       "  <tbody>\n",
       "    <tr>\n",
       "      <th>15</th>\n",
       "      <td>0.862883</td>\n",
       "      <td>4</td>\n",
       "      <td>20</td>\n",
       "    </tr>\n",
       "    <tr>\n",
       "      <th>19</th>\n",
       "      <td>0.859287</td>\n",
       "      <td>5</td>\n",
       "      <td>20</td>\n",
       "    </tr>\n",
       "    <tr>\n",
       "      <th>23</th>\n",
       "      <td>0.851710</td>\n",
       "      <td>6</td>\n",
       "      <td>20</td>\n",
       "    </tr>\n",
       "    <tr>\n",
       "      <th>18</th>\n",
       "      <td>0.847426</td>\n",
       "      <td>5</td>\n",
       "      <td>15</td>\n",
       "    </tr>\n",
       "    <tr>\n",
       "      <th>13</th>\n",
       "      <td>0.839324</td>\n",
       "      <td>4</td>\n",
       "      <td>10</td>\n",
       "    </tr>\n",
       "    <tr>\n",
       "      <th>14</th>\n",
       "      <td>0.837837</td>\n",
       "      <td>4</td>\n",
       "      <td>15</td>\n",
       "    </tr>\n",
       "    <tr>\n",
       "      <th>22</th>\n",
       "      <td>0.836338</td>\n",
       "      <td>6</td>\n",
       "      <td>15</td>\n",
       "    </tr>\n",
       "    <tr>\n",
       "      <th>16</th>\n",
       "      <td>0.833708</td>\n",
       "      <td>5</td>\n",
       "      <td>5</td>\n",
       "    </tr>\n",
       "    <tr>\n",
       "      <th>20</th>\n",
       "      <td>0.831281</td>\n",
       "      <td>6</td>\n",
       "      <td>5</td>\n",
       "    </tr>\n",
       "    <tr>\n",
       "      <th>21</th>\n",
       "      <td>0.824067</td>\n",
       "      <td>6</td>\n",
       "      <td>10</td>\n",
       "    </tr>\n",
       "    <tr>\n",
       "      <th>10</th>\n",
       "      <td>0.820452</td>\n",
       "      <td>3</td>\n",
       "      <td>15</td>\n",
       "    </tr>\n",
       "    <tr>\n",
       "      <th>12</th>\n",
       "      <td>0.816386</td>\n",
       "      <td>4</td>\n",
       "      <td>5</td>\n",
       "    </tr>\n",
       "    <tr>\n",
       "      <th>17</th>\n",
       "      <td>0.815949</td>\n",
       "      <td>5</td>\n",
       "      <td>10</td>\n",
       "    </tr>\n",
       "    <tr>\n",
       "      <th>11</th>\n",
       "      <td>0.810379</td>\n",
       "      <td>3</td>\n",
       "      <td>20</td>\n",
       "    </tr>\n",
       "    <tr>\n",
       "      <th>9</th>\n",
       "      <td>0.804713</td>\n",
       "      <td>3</td>\n",
       "      <td>10</td>\n",
       "    </tr>\n",
       "    <tr>\n",
       "      <th>8</th>\n",
       "      <td>0.796439</td>\n",
       "      <td>3</td>\n",
       "      <td>5</td>\n",
       "    </tr>\n",
       "    <tr>\n",
       "      <th>7</th>\n",
       "      <td>0.720444</td>\n",
       "      <td>2</td>\n",
       "      <td>20</td>\n",
       "    </tr>\n",
       "    <tr>\n",
       "      <th>5</th>\n",
       "      <td>0.700079</td>\n",
       "      <td>2</td>\n",
       "      <td>10</td>\n",
       "    </tr>\n",
       "    <tr>\n",
       "      <th>6</th>\n",
       "      <td>0.698297</td>\n",
       "      <td>2</td>\n",
       "      <td>15</td>\n",
       "    </tr>\n",
       "    <tr>\n",
       "      <th>4</th>\n",
       "      <td>0.692107</td>\n",
       "      <td>2</td>\n",
       "      <td>5</td>\n",
       "    </tr>\n",
       "    <tr>\n",
       "      <th>2</th>\n",
       "      <td>0.535758</td>\n",
       "      <td>1</td>\n",
       "      <td>15</td>\n",
       "    </tr>\n",
       "    <tr>\n",
       "      <th>1</th>\n",
       "      <td>0.526179</td>\n",
       "      <td>1</td>\n",
       "      <td>10</td>\n",
       "    </tr>\n",
       "    <tr>\n",
       "      <th>0</th>\n",
       "      <td>0.515668</td>\n",
       "      <td>1</td>\n",
       "      <td>5</td>\n",
       "    </tr>\n",
       "    <tr>\n",
       "      <th>3</th>\n",
       "      <td>0.515112</td>\n",
       "      <td>1</td>\n",
       "      <td>20</td>\n",
       "    </tr>\n",
       "  </tbody>\n",
       "</table>\n",
       "</div>"
      ],
      "text/plain": [
       "    areaUnderROC  k  numTrees\n",
       "15      0.862883  4        20\n",
       "19      0.859287  5        20\n",
       "23      0.851710  6        20\n",
       "18      0.847426  5        15\n",
       "13      0.839324  4        10\n",
       "14      0.837837  4        15\n",
       "22      0.836338  6        15\n",
       "16      0.833708  5         5\n",
       "20      0.831281  6         5\n",
       "21      0.824067  6        10\n",
       "10      0.820452  3        15\n",
       "12      0.816386  4         5\n",
       "17      0.815949  5        10\n",
       "11      0.810379  3        20\n",
       "9       0.804713  3        10\n",
       "8       0.796439  3         5\n",
       "7       0.720444  2        20\n",
       "5       0.700079  2        10\n",
       "6       0.698297  2        15\n",
       "4       0.692107  2         5\n",
       "2       0.535758  1        15\n",
       "1       0.526179  1        10\n",
       "0       0.515668  1         5\n",
       "3       0.515112  1        20"
      ]
     },
     "execution_count": 59,
     "metadata": {},
     "output_type": "execute_result"
    }
   ],
   "source": [
    "#extract parameters\n",
    "params_rf = [{p.name: v for p, v in m.items()} for m in cv_rf.getEstimatorParamMaps()]\n",
    "\n",
    "rf_results = pd.DataFrame.from_dict([\n",
    "    {cv_rf.getEvaluator().getMetricName(): metric, **ps} \n",
    "    for ps, metric in zip(params_rf, cv_rf.avgMetrics)\n",
    "])\n",
    "\n",
    "rf_results.sort_values(by = 'areaUnderROC', ascending = False)"
   ]
  },
  {
   "cell_type": "markdown",
   "id": "958d4e33-415d-475b-8f0c-af923a4b08e2",
   "metadata": {},
   "source": [
    "We see that the best model used 4 principal components and had a depth of 20 for the tree.\n",
    "\n",
    "Since PCA loses the original feature names, we won't extract the feature importances in their raw format.\n",
    "\n",
    "Let's see if some of the other methods do well."
   ]
  },
  {
   "cell_type": "markdown",
   "id": "5895455d-9cc6-40f0-9611-2ad877034150",
   "metadata": {},
   "source": [
    "### K-NN CLASSIFIER\n",
    "\n",
    "The K Nearest Neighbor is another supervised algorithm that works by classifying data points using the k nearest points to it. There are different distances that can be used, but here we'll use the euclidean distance. The euclidean distance calculates the distance (d) between two points, say $(x_1, y_1)$ and $(x_2, y_2)$, on a plane using the following formula:\n",
    "\n",
    "$$\n",
    "d = \\sqrt{(x_2 - x_1)^2 + (y_2 - y_1)^2}\n",
    "$$\n",
    "\n",
    "We need to find the right value for k to use, as larger k values tend to underfit and smaller k values overfit. "
   ]
  },
  {
   "cell_type": "code",
   "execution_count": 60,
   "id": "c7e310af-ffc9-4a66-a063-29887a7c9cc1",
   "metadata": {},
   "outputs": [],
   "source": [
    "paramGrid_kn = ParamGridBuilder() \\\n",
    "      .addGrid(knn.k, [5,7,9,11,13,20,25]) \\\n",
    "      .build()\n",
    "\n",
    "crossval_knn = CrossValidator(estimator = pipeline_kn,\n",
    "                            estimatorParamMaps=paramGrid_kn,\n",
    "                            evaluator = ClusteringEvaluator(),\n",
    "                            numFolds= 5)\n",
    "\n",
    "cv_kn = crossval_knn.fit(trained)"
   ]
  },
  {
   "cell_type": "code",
   "execution_count": 61,
   "id": "a9627039-03b6-4b60-bb00-28d585a4d053",
   "metadata": {},
   "outputs": [
    {
     "data": {
      "text/html": [
       "<div>\n",
       "<style scoped>\n",
       "    .dataframe tbody tr th:only-of-type {\n",
       "        vertical-align: middle;\n",
       "    }\n",
       "\n",
       "    .dataframe tbody tr th {\n",
       "        vertical-align: top;\n",
       "    }\n",
       "\n",
       "    .dataframe thead th {\n",
       "        text-align: right;\n",
       "    }\n",
       "</style>\n",
       "<table border=\"1\" class=\"dataframe\">\n",
       "  <thead>\n",
       "    <tr style=\"text-align: right;\">\n",
       "      <th></th>\n",
       "      <th>silhouette</th>\n",
       "      <th>k</th>\n",
       "    </tr>\n",
       "  </thead>\n",
       "  <tbody>\n",
       "    <tr>\n",
       "      <th>0</th>\n",
       "      <td>0.705041</td>\n",
       "      <td>5</td>\n",
       "    </tr>\n",
       "    <tr>\n",
       "      <th>1</th>\n",
       "      <td>0.646170</td>\n",
       "      <td>7</td>\n",
       "    </tr>\n",
       "    <tr>\n",
       "      <th>2</th>\n",
       "      <td>0.671052</td>\n",
       "      <td>9</td>\n",
       "    </tr>\n",
       "    <tr>\n",
       "      <th>3</th>\n",
       "      <td>0.609744</td>\n",
       "      <td>11</td>\n",
       "    </tr>\n",
       "    <tr>\n",
       "      <th>4</th>\n",
       "      <td>0.635106</td>\n",
       "      <td>13</td>\n",
       "    </tr>\n",
       "    <tr>\n",
       "      <th>5</th>\n",
       "      <td>0.583973</td>\n",
       "      <td>20</td>\n",
       "    </tr>\n",
       "    <tr>\n",
       "      <th>6</th>\n",
       "      <td>0.520555</td>\n",
       "      <td>25</td>\n",
       "    </tr>\n",
       "  </tbody>\n",
       "</table>\n",
       "</div>"
      ],
      "text/plain": [
       "   silhouette   k\n",
       "0    0.705041   5\n",
       "1    0.646170   7\n",
       "2    0.671052   9\n",
       "3    0.609744  11\n",
       "4    0.635106  13\n",
       "5    0.583973  20\n",
       "6    0.520555  25"
      ]
     },
     "execution_count": 61,
     "metadata": {},
     "output_type": "execute_result"
    }
   ],
   "source": [
    "#extract parameters\n",
    "params_kn = [{p.name: v for p, v in m.items()} for m in cv_kn.getEstimatorParamMaps()]\n",
    "\n",
    "kn_results = pd.DataFrame.from_dict([\n",
    "    {cv_kn.getEvaluator().getMetricName(): metric, **ps} \n",
    "    for ps, metric in zip(params_kn, cv_kn.avgMetrics)\n",
    "])\n",
    "\n",
    "kn_results"
   ]
  },
  {
   "cell_type": "markdown",
   "id": "e68f20e4-5ddd-4150-827e-5a8f01fc08fc",
   "metadata": {},
   "source": [
    "Higher silhouette is better. So k = 5 is being used in our trained K-Means model.\n",
    "\n",
    "Silhouette score is used to evaluate the quality of clusters created using clustering algorithms such as K-Means in terms of how well samples are clustered with other samples that are similar to each other. The Silhouette score is calculated for each sample of different clusters. To calculate the Silhouette score for each observation/data point, the following distances need to be found out for each observations belonging to all the clusters:\n",
    "\n",
    "Mean distance between the observation and all other data points in the same cluster. This distance can also be called a mean intra-cluster distance. The mean distance is denoted by a\n",
    "Mean distance between the observation and all other data points of the next nearest cluster. This distance can also be called a mean nearest-cluster distance. The mean distance is denoted by b.\n",
    "\n",
    "The value of the Silhouette score varies from -1 to 1. If the score is 1, the cluster is dense and well-separated than other clusters. A value near 0 represents overlapping clusters with samples very close to the decision boundary of the neighboring clusters. A negative score [-1, 0] indicates that the samples might have got assigned to the wrong clusters.\n",
    "\n",
    "We should extract the performance on the test set."
   ]
  },
  {
   "cell_type": "code",
   "execution_count": 62,
   "id": "81650cb7-c9c7-4fe8-9b26-40b9c4d371d1",
   "metadata": {},
   "outputs": [
    {
     "name": "stdout",
     "output_type": "stream",
     "text": [
      "0.6222518653045874\n"
     ]
    }
   ],
   "source": [
    "predictions = cv_kn.transform(tested)\n",
    "evaluator = ClusteringEvaluator(metricName= \"silhouette\")\n",
    "performance_kn = evaluator.evaluate(predictions)\n",
    "\n",
    "print(performance_kn)"
   ]
  },
  {
   "cell_type": "markdown",
   "id": "ddaf0175-80f0-4ae0-9480-2d56f04a25d4",
   "metadata": {},
   "source": [
    "So our K-Means Cluster model did not do too badly."
   ]
  },
  {
   "cell_type": "markdown",
   "id": "911c2d1c-d74b-47be-a9f6-4dccffbada10",
   "metadata": {},
   "source": [
    "### XGBoost CLASSIFIER\n",
    "\n",
    "An XGBoost model is one that uses the gradient boosting decision tree algorithm and XGBoost stands for Extreme Gradient Boosting. This method works by adding weak learners, usually decision trees, using a gradient descent optimization algorithm that minimizes the loss function. One of the benefits of this model is that it performs faster than other gradient boosting techniques. It also performs well on structured datasets. The model has a regularization term that helps avoid over-fitting. \n",
    "\n",
    "Now let's fit and tune the parameters!"
   ]
  },
  {
   "cell_type": "code",
   "execution_count": 63,
   "id": "ef9f2979-20eb-4ed5-a818-78ebba2e488d",
   "metadata": {},
   "outputs": [],
   "source": [
    "paramGrid_xgb = ParamGridBuilder() \\\n",
    ".addGrid(gbt.maxDepth, [2, 5, 10]) \\\n",
    ".addGrid(gbt.maxBins, [10, 20, 40]) \\\n",
    ".addGrid(gbt.maxIter, [5, 10, 20]) \\\n",
    ".build()\n",
    "\n",
    "crossval_xgb = CrossValidator(estimator = pipeline_xgb,\n",
    "                            estimatorParamMaps=paramGrid_xgb,\n",
    "                            evaluator = BinaryClassificationEvaluator(labelCol = \"label\"),\n",
    "                            numFolds= 5)\n",
    "\n",
    "cv_xgb = crossval_xgb.fit(trained)"
   ]
  },
  {
   "cell_type": "markdown",
   "id": "2ced31be-5c6c-4de5-933d-d82a0becda2e",
   "metadata": {},
   "source": [
    "Now let's use this model on the test set to see how it performs."
   ]
  },
  {
   "cell_type": "code",
   "execution_count": 64,
   "id": "6b168ff8-d358-4b7b-b54b-c653eb01c98c",
   "metadata": {},
   "outputs": [
    {
     "name": "stdout",
     "output_type": "stream",
     "text": [
      "0.8736933797909407\n"
     ]
    }
   ],
   "source": [
    "predictions = cv_xgb.transform(tested)\n",
    "evaluator= BinaryClassificationEvaluator(labelCol = \"label\", rawPredictionCol=\"probability\", metricName= \"areaUnderROC\")\n",
    "performance_xgb = evaluator.evaluate(predictions)\n",
    "\n",
    "print(performance_xgb)"
   ]
  },
  {
   "cell_type": "markdown",
   "id": "10a5e9e7-ecc6-4c3d-9ae1-f04b26822079",
   "metadata": {},
   "source": [
    "The XGBoost model performed very well! Let's take a quick look at what the parameters were for the model that was chosen."
   ]
  },
  {
   "cell_type": "code",
   "execution_count": 74,
   "id": "094c3724-6dd2-416c-8131-19823f9ed486",
   "metadata": {
    "tags": []
   },
   "outputs": [
    {
     "data": {
      "text/html": [
       "<div>\n",
       "<style scoped>\n",
       "    .dataframe tbody tr th:only-of-type {\n",
       "        vertical-align: middle;\n",
       "    }\n",
       "\n",
       "    .dataframe tbody tr th {\n",
       "        vertical-align: top;\n",
       "    }\n",
       "\n",
       "    .dataframe thead th {\n",
       "        text-align: right;\n",
       "    }\n",
       "</style>\n",
       "<table border=\"1\" class=\"dataframe\">\n",
       "  <thead>\n",
       "    <tr style=\"text-align: right;\">\n",
       "      <th></th>\n",
       "      <th>areaUnderROC</th>\n",
       "      <th>maxDepth</th>\n",
       "      <th>maxBins</th>\n",
       "      <th>maxIter</th>\n",
       "    </tr>\n",
       "  </thead>\n",
       "  <tbody>\n",
       "    <tr>\n",
       "      <th>5</th>\n",
       "      <td>0.861106</td>\n",
       "      <td>2</td>\n",
       "      <td>20</td>\n",
       "      <td>20</td>\n",
       "    </tr>\n",
       "    <tr>\n",
       "      <th>4</th>\n",
       "      <td>0.851699</td>\n",
       "      <td>2</td>\n",
       "      <td>20</td>\n",
       "      <td>10</td>\n",
       "    </tr>\n",
       "    <tr>\n",
       "      <th>8</th>\n",
       "      <td>0.848477</td>\n",
       "      <td>2</td>\n",
       "      <td>40</td>\n",
       "      <td>20</td>\n",
       "    </tr>\n",
       "    <tr>\n",
       "      <th>3</th>\n",
       "      <td>0.842333</td>\n",
       "      <td>2</td>\n",
       "      <td>20</td>\n",
       "      <td>5</td>\n",
       "    </tr>\n",
       "    <tr>\n",
       "      <th>7</th>\n",
       "      <td>0.840365</td>\n",
       "      <td>2</td>\n",
       "      <td>40</td>\n",
       "      <td>10</td>\n",
       "    </tr>\n",
       "    <tr>\n",
       "      <th>14</th>\n",
       "      <td>0.829034</td>\n",
       "      <td>5</td>\n",
       "      <td>20</td>\n",
       "      <td>20</td>\n",
       "    </tr>\n",
       "    <tr>\n",
       "      <th>2</th>\n",
       "      <td>0.828662</td>\n",
       "      <td>2</td>\n",
       "      <td>10</td>\n",
       "      <td>20</td>\n",
       "    </tr>\n",
       "    <tr>\n",
       "      <th>6</th>\n",
       "      <td>0.827178</td>\n",
       "      <td>2</td>\n",
       "      <td>40</td>\n",
       "      <td>5</td>\n",
       "    </tr>\n",
       "    <tr>\n",
       "      <th>13</th>\n",
       "      <td>0.822340</td>\n",
       "      <td>5</td>\n",
       "      <td>20</td>\n",
       "      <td>10</td>\n",
       "    </tr>\n",
       "    <tr>\n",
       "      <th>11</th>\n",
       "      <td>0.820119</td>\n",
       "      <td>5</td>\n",
       "      <td>10</td>\n",
       "      <td>20</td>\n",
       "    </tr>\n",
       "    <tr>\n",
       "      <th>17</th>\n",
       "      <td>0.819705</td>\n",
       "      <td>5</td>\n",
       "      <td>40</td>\n",
       "      <td>20</td>\n",
       "    </tr>\n",
       "    <tr>\n",
       "      <th>16</th>\n",
       "      <td>0.816285</td>\n",
       "      <td>5</td>\n",
       "      <td>40</td>\n",
       "      <td>10</td>\n",
       "    </tr>\n",
       "    <tr>\n",
       "      <th>12</th>\n",
       "      <td>0.816076</td>\n",
       "      <td>5</td>\n",
       "      <td>20</td>\n",
       "      <td>5</td>\n",
       "    </tr>\n",
       "    <tr>\n",
       "      <th>23</th>\n",
       "      <td>0.811784</td>\n",
       "      <td>10</td>\n",
       "      <td>20</td>\n",
       "      <td>20</td>\n",
       "    </tr>\n",
       "    <tr>\n",
       "      <th>15</th>\n",
       "      <td>0.811045</td>\n",
       "      <td>5</td>\n",
       "      <td>40</td>\n",
       "      <td>5</td>\n",
       "    </tr>\n",
       "    <tr>\n",
       "      <th>1</th>\n",
       "      <td>0.808961</td>\n",
       "      <td>2</td>\n",
       "      <td>10</td>\n",
       "      <td>10</td>\n",
       "    </tr>\n",
       "    <tr>\n",
       "      <th>9</th>\n",
       "      <td>0.806438</td>\n",
       "      <td>5</td>\n",
       "      <td>10</td>\n",
       "      <td>5</td>\n",
       "    </tr>\n",
       "    <tr>\n",
       "      <th>10</th>\n",
       "      <td>0.804625</td>\n",
       "      <td>5</td>\n",
       "      <td>10</td>\n",
       "      <td>10</td>\n",
       "    </tr>\n",
       "    <tr>\n",
       "      <th>21</th>\n",
       "      <td>0.804609</td>\n",
       "      <td>10</td>\n",
       "      <td>20</td>\n",
       "      <td>5</td>\n",
       "    </tr>\n",
       "    <tr>\n",
       "      <th>0</th>\n",
       "      <td>0.803221</td>\n",
       "      <td>2</td>\n",
       "      <td>10</td>\n",
       "      <td>5</td>\n",
       "    </tr>\n",
       "    <tr>\n",
       "      <th>22</th>\n",
       "      <td>0.796116</td>\n",
       "      <td>10</td>\n",
       "      <td>20</td>\n",
       "      <td>10</td>\n",
       "    </tr>\n",
       "    <tr>\n",
       "      <th>20</th>\n",
       "      <td>0.791560</td>\n",
       "      <td>10</td>\n",
       "      <td>10</td>\n",
       "      <td>20</td>\n",
       "    </tr>\n",
       "    <tr>\n",
       "      <th>26</th>\n",
       "      <td>0.790611</td>\n",
       "      <td>10</td>\n",
       "      <td>40</td>\n",
       "      <td>20</td>\n",
       "    </tr>\n",
       "    <tr>\n",
       "      <th>19</th>\n",
       "      <td>0.786653</td>\n",
       "      <td>10</td>\n",
       "      <td>10</td>\n",
       "      <td>10</td>\n",
       "    </tr>\n",
       "    <tr>\n",
       "      <th>18</th>\n",
       "      <td>0.782710</td>\n",
       "      <td>10</td>\n",
       "      <td>10</td>\n",
       "      <td>5</td>\n",
       "    </tr>\n",
       "    <tr>\n",
       "      <th>25</th>\n",
       "      <td>0.778899</td>\n",
       "      <td>10</td>\n",
       "      <td>40</td>\n",
       "      <td>10</td>\n",
       "    </tr>\n",
       "    <tr>\n",
       "      <th>24</th>\n",
       "      <td>0.767064</td>\n",
       "      <td>10</td>\n",
       "      <td>40</td>\n",
       "      <td>5</td>\n",
       "    </tr>\n",
       "  </tbody>\n",
       "</table>\n",
       "</div>"
      ],
      "text/plain": [
       "    areaUnderROC  maxDepth  maxBins  maxIter\n",
       "5       0.861106         2       20       20\n",
       "4       0.851699         2       20       10\n",
       "8       0.848477         2       40       20\n",
       "3       0.842333         2       20        5\n",
       "7       0.840365         2       40       10\n",
       "14      0.829034         5       20       20\n",
       "2       0.828662         2       10       20\n",
       "6       0.827178         2       40        5\n",
       "13      0.822340         5       20       10\n",
       "11      0.820119         5       10       20\n",
       "17      0.819705         5       40       20\n",
       "16      0.816285         5       40       10\n",
       "12      0.816076         5       20        5\n",
       "23      0.811784        10       20       20\n",
       "15      0.811045         5       40        5\n",
       "1       0.808961         2       10       10\n",
       "9       0.806438         5       10        5\n",
       "10      0.804625         5       10       10\n",
       "21      0.804609        10       20        5\n",
       "0       0.803221         2       10        5\n",
       "22      0.796116        10       20       10\n",
       "20      0.791560        10       10       20\n",
       "26      0.790611        10       40       20\n",
       "19      0.786653        10       10       10\n",
       "18      0.782710        10       10        5\n",
       "25      0.778899        10       40       10\n",
       "24      0.767064        10       40        5"
      ]
     },
     "execution_count": 74,
     "metadata": {},
     "output_type": "execute_result"
    }
   ],
   "source": [
    "best_model = cv_xgb.bestModel\n",
    "\n",
    "params_xgb = [{p.name: v for p, v in m.items()} for m in cv_xgb.getEstimatorParamMaps()]\n",
    "xgb_results = pd.DataFrame.from_dict([\n",
    "    {cv_xgb.getEvaluator().getMetricName(): metric, **ps} \n",
    "    for ps, metric in zip(params_xgb, cv_xgb.avgMetrics)\n",
    "])\n",
    "\n",
    "xgb_results.sort_values(by = 'areaUnderROC', ascending = False)"
   ]
  },
  {
   "cell_type": "markdown",
   "id": "b094e429-afbe-4eed-b3fe-002f69b74f9c",
   "metadata": {},
   "source": [
    "It looks like the best parameters were a max depth of 2, max bins of 20, and a max iteration of 20."
   ]
  },
  {
   "cell_type": "markdown",
   "id": "0f1bb374-72e5-45e9-8d49-bac8407dd22a",
   "metadata": {},
   "source": [
    "### LOGISTIC REGRESSION \n",
    "\n",
    "We finally perform Logistic Regression since we have a binary outcome. The methods above give us a way of classifying MRIs into Groups of Dementia , but do not give us interpretability as it pertains to \"risk factors.\"\n",
    "\n",
    "So, logistic regression is performed to identify the log odds...and odds after transformation of the coefficients...associated with particular features as it pertains to having Dementia versus not.\n",
    "\n",
    "We do not use the scaled features as a side note."
   ]
  },
  {
   "cell_type": "code",
   "execution_count": 66,
   "id": "202a60e4-9a39-4b26-9f87-a31cbbd917a0",
   "metadata": {},
   "outputs": [
    {
     "data": {
      "image/png": "[encoded data removed]",
      "text/plain": [
       "<Figure size 432x288 with 1 Axes>"
      ]
     },
     "metadata": {
      "needs_background": "light"
     },
     "output_type": "display_data"
    }
   ],
   "source": [
    "lr = LogisticRegression(featuresCol = 'features', labelCol = 'label', maxIter=10)\n",
    "\n",
    "lrModel = lr.fit(trained)\n",
    "\n",
    "#view betas\n",
    "beta = np.sort(lrModel.coefficients)\n",
    "plt.plot(beta)\n",
    "plt.ylabel('Beta Coefficients')\n",
    "plt.show()"
   ]
  },
  {
   "cell_type": "markdown",
   "id": "5ed216aa-251b-4177-bba3-179f1155a1c0",
   "metadata": {},
   "source": [
    "Summarize the model over the training set, we can also obtain the receiver-operating characteristic and areaUnderROC."
   ]
  },
  {
   "cell_type": "code",
   "execution_count": 68,
   "id": "f14bce22-4105-484e-bf0e-79b9ee02c848",
   "metadata": {
    "tags": []
   },
   "outputs": [
    {
     "name": "stderr",
     "output_type": "stream",
     "text": [
      "c:\\users\\genel\\appdata\\local\\programs\\python\\python39\\lib\\site-packages\\pyspark\\sql\\context.py:125: FutureWarning: Deprecated in 3.0.0. Use SparkSession.builder.getOrCreate() instead.\n",
      "  warnings.warn(\n"
     ]
    },
    {
     "data": {
      "image/png": "[encoded data removed]",
      "text/plain": [
       "<Figure size 432x288 with 1 Axes>"
      ]
     },
     "metadata": {
      "needs_background": "light"
     },
     "output_type": "display_data"
    },
    {
     "name": "stdout",
     "output_type": "stream",
     "text": [
      "Training set areaUnderROC: 0.8249111725227004\n"
     ]
    }
   ],
   "source": [
    "training_summary = lrModel.summary\n",
    "roc = ps.DataFrame(training_summary.roc)\n",
    "roc.plot(x = 'FPR', y = 'TPR', legend = None)\n",
    "plt.ylabel('False Positive Rate')\n",
    "plt.xlabel('True Positive Rate')\n",
    "plt.title('ROC Curve')\n",
    "plt.show()\n",
    "print('Training set areaUnderROC: ' + str(training_summary.areaUnderROC))"
   ]
  },
  {
   "cell_type": "markdown",
   "id": "47e22d20-7e60-41f8-b26a-2f45a97ac973",
   "metadata": {},
   "source": [
    "The AUROC is actually pretty good on the training data = .82.\n",
    "\n",
    "Precision & Recall"
   ]
  },
  {
   "cell_type": "code",
   "execution_count": 69,
   "id": "9c83ecea-a9f0-4286-9967-627826e08ca4",
   "metadata": {},
   "outputs": [
    {
     "name": "stderr",
     "output_type": "stream",
     "text": [
      "c:\\users\\genel\\appdata\\local\\programs\\python\\python39\\lib\\site-packages\\pyspark\\sql\\context.py:125: FutureWarning: Deprecated in 3.0.0. Use SparkSession.builder.getOrCreate() instead.\n",
      "  warnings.warn(\n"
     ]
    },
    {
     "data": {
      "image/png": "[encoded data removed]",
      "text/plain": [
       "<Figure size 432x288 with 1 Axes>"
      ]
     },
     "metadata": {
      "needs_background": "light"
     },
     "output_type": "display_data"
    }
   ],
   "source": [
    "pr = ps.DataFrame(training_summary.pr)\n",
    "pr.plot(x = 'recall', y = 'precision', legend = None)\n",
    "plt.ylabel('Precision')\n",
    "plt.xlabel('Recall')\n",
    "plt.show()"
   ]
  },
  {
   "cell_type": "markdown",
   "id": "9197b8e5-ef63-42df-b070-538c2c88ceca",
   "metadata": {},
   "source": [
    "Now let's evaluate on the test data!"
   ]
  },
  {
   "cell_type": "code",
   "execution_count": 70,
   "id": "5b5db6c5-0ed0-43fa-8d5b-adc4d8bba734",
   "metadata": {},
   "outputs": [
    {
     "name": "stdout",
     "output_type": "stream",
     "text": [
      "+--------------------+-----+--------------------+----------+--------------------+\n",
      "|            features|label|       rawPrediction|prediction|         probability|\n",
      "+--------------------+-----+--------------------+----------+--------------------+\n",
      "|[61.0,3.401197381...|    0|[1.68302642144930...|       0.0|[0.84330486343766...|\n",
      "|[82.0,3.401197381...|    0|[-0.0740705074555...|       1.0|[0.48149083481454...|\n",
      "|[85.0,3.401197381...|    0|[0.78710568129098...|       0.0|[0.68720952662580...|\n",
      "|[68.0,3.295836866...|    1|[0.53668697126724...|       0.0|[0.63104138681258...|\n",
      "|[72.0,3.258096538...|    1|[-2.2648275811765...|       1.0|[0.09407811957606...|\n",
      "|[82.0,3.332204510...|    1|[-0.0182957389352...|       1.0|[0.49542619284957...|\n",
      "|[88.0,3.218875824...|    1|[-2.3171986817634...|       1.0|[0.08970855481372...|\n",
      "|[69.0,3.367295829...|    0|[1.14945950177046...|       0.0|[0.75941217889299...|\n",
      "|[80.0,3.401197381...|    0|[1.31995582351063...|       0.0|[0.78917435661174...|\n",
      "|[73.0,3.332204510...|    1|[0.12793102915857...|       0.0|[0.53193920848317...|\n",
      "+--------------------+-----+--------------------+----------+--------------------+\n",
      "only showing top 10 rows\n",
      "\n"
     ]
    }
   ],
   "source": [
    "predictions = lrModel.transform(tested)\n",
    "predictions.select('features', 'label', 'rawPrediction', 'prediction', 'probability').show(10)"
   ]
  },
  {
   "cell_type": "markdown",
   "id": "4e58ebaa-d226-40b6-81b5-8f0a9b27776c",
   "metadata": {},
   "source": [
    "Now let's get the AUROC for the predictions on the test set. We do this so we can compare the Logistic Regression model to the other models performances."
   ]
  },
  {
   "cell_type": "code",
   "execution_count": 71,
   "id": "b34f3f01-1a67-42e8-a2d6-a8805651d332",
   "metadata": {},
   "outputs": [
    {
     "name": "stdout",
     "output_type": "stream",
     "text": [
      "Test Area Under ROC 0.7987804878048781\n"
     ]
    }
   ],
   "source": [
    "evaluator = BinaryClassificationEvaluator()\n",
    "print('Test Area Under ROC', evaluator.evaluate(predictions))"
   ]
  },
  {
   "cell_type": "markdown",
   "id": "eea01bb6-c469-40d9-ae76-4fe30d041917",
   "metadata": {},
   "source": [
    "This isn't terrible.\n",
    "\n",
    "Let's go back and get the coefficients."
   ]
  },
  {
   "cell_type": "code",
   "execution_count": 72,
   "id": "9b111fd6-8395-4836-a652-9889a48502a8",
   "metadata": {},
   "outputs": [
    {
     "data": {
      "text/plain": [
       "DenseVector([-0.0017, -15.5787, 0.0194, -9.9104, 25.3938, -0.0221])"
      ]
     },
     "execution_count": 72,
     "metadata": {},
     "output_type": "execute_result"
    }
   ],
   "source": [
    "lrModel.coefficients"
   ]
  },
  {
   "cell_type": "markdown",
   "id": "d11b7b79-0754-41ee-ae26-1a91fb0ba9f6",
   "metadata": {},
   "source": [
    "Recall our features were sorted as : features = ['Age','log_MMSE','eTIV','nWBV','ASF', 'EDUC']\n",
    "\n",
    "Thus we interpret these results as:\n",
    "- For a one unit increase in Age, one's log odds of having Dementia decreases by .0017.\n",
    "- For a one unit increase in log(MMSE), one's log odds of having Dementia decreases by 15.58.\n",
    "- For a one unit increase in eTIV, one's log odds of having Dementia increases by .02\n",
    "- For a one unit increase in nWBV (brain volume), one's log odds of having Dementia decreases by 9.9\n",
    "- For a one unit increase in ASF, one's log odds of having Dementia increases by 25.\n",
    "- For a one unit increase in EDUC (years of education), one's log odds of having Dementia decreases by .02.\n",
    "\n",
    "Some of these results do not seem to make much sense, but we provide those interpretations anyway."
   ]
  },
  {
   "cell_type": "markdown",
   "id": "f2d2dbc0-9097-4e60-94d5-e191fa48547a",
   "metadata": {},
   "source": [
    "### RESULTS\n",
    "\n",
    "We saw how each of the models performed individually, but let's put it all together to view them in one place."
   ]
  },
  {
   "cell_type": "code",
   "execution_count": 73,
   "id": "bab84223-34cc-4143-962e-6a42f6b292b5",
   "metadata": {},
   "outputs": [
    {
     "data": {
      "text/html": [
       "<div>\n",
       "<style scoped>\n",
       "    .dataframe tbody tr th:only-of-type {\n",
       "        vertical-align: middle;\n",
       "    }\n",
       "\n",
       "    .dataframe tbody tr th {\n",
       "        vertical-align: top;\n",
       "    }\n",
       "\n",
       "    .dataframe thead th {\n",
       "        text-align: right;\n",
       "    }\n",
       "</style>\n",
       "<table border=\"1\" class=\"dataframe\">\n",
       "  <thead>\n",
       "    <tr style=\"text-align: right;\">\n",
       "      <th></th>\n",
       "      <th>models</th>\n",
       "      <th>performance</th>\n",
       "    </tr>\n",
       "  </thead>\n",
       "  <tbody>\n",
       "    <tr>\n",
       "      <th>0</th>\n",
       "      <td>Decision Tree with PCA</td>\n",
       "      <td>0.531794</td>\n",
       "    </tr>\n",
       "    <tr>\n",
       "      <th>1</th>\n",
       "      <td>Decision Tree no PCA</td>\n",
       "      <td>0.810976</td>\n",
       "    </tr>\n",
       "    <tr>\n",
       "      <th>2</th>\n",
       "      <td>Random Forest</td>\n",
       "      <td>0.610627</td>\n",
       "    </tr>\n",
       "    <tr>\n",
       "      <th>3</th>\n",
       "      <td>K-NN</td>\n",
       "      <td>0.622252</td>\n",
       "    </tr>\n",
       "    <tr>\n",
       "      <th>4</th>\n",
       "      <td>XGBoost</td>\n",
       "      <td>0.873693</td>\n",
       "    </tr>\n",
       "  </tbody>\n",
       "</table>\n",
       "</div>"
      ],
      "text/plain": [
       "                   models  performance\n",
       "0  Decision Tree with PCA     0.531794\n",
       "1    Decision Tree no PCA     0.810976\n",
       "2           Random Forest     0.610627\n",
       "3                    K-NN     0.622252\n",
       "4                 XGBoost     0.873693"
      ]
     },
     "execution_count": 73,
     "metadata": {},
     "output_type": "execute_result"
    }
   ],
   "source": [
    "results = {'models': ['Decision Tree with PCA', 'Decision Tree no PCA', 'Random Forest', 'K-NN', 'XGBoost'],\n",
    "           'performance': [performance_dt, performance_dt2, performance_rf, performance_kn, performance_xgb]}\n",
    "\n",
    "ps.DataFrame(results)"
   ]
  },
  {
   "cell_type": "markdown",
   "id": "2f85989b-eb10-49ef-bd66-e25e2ab695a5",
   "metadata": {},
   "source": [
    "We can see that the XGBoost model performed the best out of the selected models. There was also a significant increase in the decision tree performance when we didn't use PCA. \n",
    "\n",
    "A random forest model is known to perform well and is a popular choice in machine learning, so it's a little surprising to see this wasn't one of the top performers. "
   ]
  },
  {
   "cell_type": "markdown",
   "id": "6e0069d0-83bf-461e-8cea-cef9e3eb3d32",
   "metadata": {},
   "source": [
    "### DISCUSSION & CONCLUDING THOUGHTS\n",
    "\n",
    "Our goal with this was to find a way to determine whether someone was categorized as demented or not based on different factors from the data provided. \n",
    "\n",
    "From our exploratory analysis, we saw that age seemed to have a relationship with being demented, as higher educated people were less demented  compared to lower educated people. \n",
    "\n",
    "We decided to use Age, MMSE, eTIV, nWBV, ASF, EDUC as the features in our model. \n",
    "\n",
    "We looked at a few different classification models, and saw that an XGBoost model performed the best in prediction. \n",
    "\n",
    "From the decision tree, we saw that log(MMSE) was the most important predictor from the features that we used."
   ]
  },
  {
   "cell_type": "markdown",
   "id": "d6f9c81f-c57e-460a-ab53-62b9262a6102",
   "metadata": {},
   "source": [
    "***********************\n",
    "************************\n",
    "END OF ASSIGNMENT.\n",
    "************************\n",
    "************************"
   ]
  }
 ],
 "metadata": {
  "kernelspec": {
   "display_name": "Python 3 (ipykernel)",
   "language": "python",
   "name": "python3"
  },
  "language_info": {
   "codemirror_mode": {
    "name": "ipython",
    "version": 3
   },
   "file_extension": ".py",
   "mimetype": "text/x-python",
   "name": "python",
   "nbconvert_exporter": "python",
   "pygments_lexer": "ipython3",
   "version": "3.9.6"
  }
 },
 "nbformat": 4,
 "nbformat_minor": 5
}
